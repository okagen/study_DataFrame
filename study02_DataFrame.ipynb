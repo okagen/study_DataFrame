{
 "cells": [
  {
   "cell_type": "markdown",
   "metadata": {},
   "source": [
    "# DataFrame内を行方向、列方向に処理して統計量を計算し、散布図を作成する。\n",
    "\n",
    "1. CSV読み込み。`.read_csv`\n",
    "1. DataFrameの行ごとにデータ処理。\n",
    "    - 1行ずつ評価し、データ抽出。`for idx, df_select in df_original():`\n",
    "    - 一括で評価し、indexと列名を頼りに、元のデータで上書きする。`df_new = df_new.update(df_original)`\n",
    "1. DataFrameの列ごとにデータ処理。` df.sum(axis=1)`\n",
    "1. 列ごとに統計量計算。\n",
    "1. 平均と分散を使って散布図作成。"
   ]
  },
  {
   "cell_type": "markdown",
   "metadata": {},
   "source": [
    "---\n",
    "## 1. CSVファイル読み込み DataFrameに保存"
   ]
  },
  {
   "cell_type": "code",
   "execution_count": 15,
   "metadata": {},
   "outputs": [
    {
     "data": {
      "text/html": [
       "<div>\n",
       "<style scoped>\n",
       "    .dataframe tbody tr th:only-of-type {\n",
       "        vertical-align: middle;\n",
       "    }\n",
       "\n",
       "    .dataframe tbody tr th {\n",
       "        vertical-align: top;\n",
       "    }\n",
       "\n",
       "    .dataframe thead th {\n",
       "        text-align: right;\n",
       "    }\n",
       "</style>\n",
       "<table border=\"1\" class=\"dataframe\">\n",
       "  <thead>\n",
       "    <tr style=\"text-align: right;\">\n",
       "      <th></th>\n",
       "      <th>SCC</th>\n",
       "      <th>K</th>\n",
       "      <th>S</th>\n",
       "      <th>E</th>\n",
       "    </tr>\n",
       "  </thead>\n",
       "  <tbody>\n",
       "    <tr>\n",
       "      <th>0</th>\n",
       "      <td>55020091</td>\n",
       "      <td>1</td>\n",
       "      <td>1</td>\n",
       "      <td>1</td>\n",
       "    </tr>\n",
       "    <tr>\n",
       "      <th>1</th>\n",
       "      <td>55020091</td>\n",
       "      <td>1</td>\n",
       "      <td>1</td>\n",
       "      <td>1</td>\n",
       "    </tr>\n",
       "    <tr>\n",
       "      <th>2</th>\n",
       "      <td>55020091</td>\n",
       "      <td>1</td>\n",
       "      <td>1</td>\n",
       "      <td>1</td>\n",
       "    </tr>\n",
       "    <tr>\n",
       "      <th>3</th>\n",
       "      <td>55020091</td>\n",
       "      <td>1</td>\n",
       "      <td>1</td>\n",
       "      <td>1</td>\n",
       "    </tr>\n",
       "    <tr>\n",
       "      <th>4</th>\n",
       "      <td>55020091</td>\n",
       "      <td>1</td>\n",
       "      <td>1</td>\n",
       "      <td>1</td>\n",
       "    </tr>\n",
       "  </tbody>\n",
       "</table>\n",
       "</div>"
      ],
      "text/plain": [
       "        SCC  K  S  E\n",
       "0  55020091  1  1  1\n",
       "1  55020091  1  1  1\n",
       "2  55020091  1  1  1\n",
       "3  55020091  1  1  1\n",
       "4  55020091  1  1  1"
      ]
     },
     "metadata": {},
     "output_type": "display_data"
    },
    {
     "data": {
      "text/plain": [
       "SCC    int64\n",
       "K      int64\n",
       "S      int64\n",
       "E      int64\n",
       "dtype: object"
      ]
     },
     "metadata": {},
     "output_type": "display_data"
    },
    {
     "data": {
      "text/plain": [
       "(63407, 4)"
      ]
     },
     "metadata": {},
     "output_type": "display_data"
    }
   ],
   "source": [
    "import pandas as pd\n",
    "\n",
    "csv_encoding = 'Shift_JISx0213'\n",
    "#inputFile = \".\\\\Data\\\\02_ClassfiedList_raw.csv\"\n",
    "inputFile = \".\\\\Data\\\\1.csv\"\n",
    "\n",
    "df = pd.read_csv(inputFile,index_col=False, encoding=csv_encoding)\n",
    "display(df.head(5))\n",
    "display(df.dtypes)\n",
    "display(df.shape)"
   ]
  },
  {
   "cell_type": "markdown",
   "metadata": {},
   "source": [
    "---\n",
    "## 2. DataFrameの値を調整\n",
    "SC列を削除し、NaNを0に置き換える。SCC列をindexに変換。"
   ]
  },
  {
   "cell_type": "code",
   "execution_count": 2,
   "metadata": {},
   "outputs": [
    {
     "data": {
      "text/html": [
       "<div>\n",
       "<style scoped>\n",
       "    .dataframe tbody tr th:only-of-type {\n",
       "        vertical-align: middle;\n",
       "    }\n",
       "\n",
       "    .dataframe tbody tr th {\n",
       "        vertical-align: top;\n",
       "    }\n",
       "\n",
       "    .dataframe thead th {\n",
       "        text-align: right;\n",
       "    }\n",
       "</style>\n",
       "<table border=\"1\" class=\"dataframe\">\n",
       "  <thead>\n",
       "    <tr style=\"text-align: right;\">\n",
       "      <th></th>\n",
       "      <th>SCC</th>\n",
       "      <th>Total</th>\n",
       "      <th>Pro1-1</th>\n",
       "      <th>Pro1-2</th>\n",
       "      <th>Pro1-3</th>\n",
       "      <th>Pro2</th>\n",
       "      <th>Pro3</th>\n",
       "    </tr>\n",
       "  </thead>\n",
       "  <tbody>\n",
       "    <tr>\n",
       "      <th>0</th>\n",
       "      <td>110001</td>\n",
       "      <td>104</td>\n",
       "      <td>1.0</td>\n",
       "      <td>1.0</td>\n",
       "      <td>0.0</td>\n",
       "      <td>1.0</td>\n",
       "      <td>0.0</td>\n",
       "    </tr>\n",
       "    <tr>\n",
       "      <th>1</th>\n",
       "      <td>110002</td>\n",
       "      <td>95</td>\n",
       "      <td>2.0</td>\n",
       "      <td>2.0</td>\n",
       "      <td>0.0</td>\n",
       "      <td>0.0</td>\n",
       "      <td>0.0</td>\n",
       "    </tr>\n",
       "    <tr>\n",
       "      <th>2</th>\n",
       "      <td>110003</td>\n",
       "      <td>103</td>\n",
       "      <td>8.0</td>\n",
       "      <td>5.0</td>\n",
       "      <td>4.0</td>\n",
       "      <td>15.0</td>\n",
       "      <td>1.0</td>\n",
       "    </tr>\n",
       "    <tr>\n",
       "      <th>3</th>\n",
       "      <td>110004</td>\n",
       "      <td>104</td>\n",
       "      <td>13.0</td>\n",
       "      <td>2.0</td>\n",
       "      <td>4.0</td>\n",
       "      <td>13.0</td>\n",
       "      <td>0.0</td>\n",
       "    </tr>\n",
       "    <tr>\n",
       "      <th>4</th>\n",
       "      <td>120001</td>\n",
       "      <td>40</td>\n",
       "      <td>7.0</td>\n",
       "      <td>4.0</td>\n",
       "      <td>0.0</td>\n",
       "      <td>26.0</td>\n",
       "      <td>1.0</td>\n",
       "    </tr>\n",
       "  </tbody>\n",
       "</table>\n",
       "</div>"
      ],
      "text/plain": [
       "      SCC  Total  Pro1-1  Pro1-2  Pro1-3  Pro2  Pro3\n",
       "0  110001    104     1.0     1.0     0.0   1.0   0.0\n",
       "1  110002     95     2.0     2.0     0.0   0.0   0.0\n",
       "2  110003    103     8.0     5.0     4.0  15.0   1.0\n",
       "3  110004    104    13.0     2.0     4.0  13.0   0.0\n",
       "4  120001     40     7.0     4.0     0.0  26.0   1.0"
      ]
     },
     "metadata": {},
     "output_type": "display_data"
    }
   ],
   "source": [
    "#df = df[['SCC','Total', 'Pro1-1', 'Pro1-2', 'Pro1-3', 'Pro2', 'Pro3']].fillna(0)\n",
    "#所在地都道府県コード,都道府県名,学校コード,学校名,設置者コード,設置者名,学年,答案番号,出席番号_1国,出席番号_1数,出席番号_1英,出席番号_2国,出席番号_2社A,出席番号_2社B,出席番号_2数,出席番号_2理A,出席番号_2理B,出席番号_2英,教室番号_1国,教室番号_1数,教室番号_1英,教室番号_2国,教室番号_2社A,教室番号_2社B,教室番号_2数,教室番号_2理A,教室番号_2理B,教室番号_2英,集計対象_1国,集計対象_1数,集計対象_1英,集計対象_2国,集計対象_2社A,集計対象_2社B,集計対象_2数,集計対象_2理A,集計対象_2理B,集計対象_2英,正答数_1国,正答数_1数,正答数_1英,正答数_2国,正答数_2社A,正答数_2社B,正答数_2数,正答数_2理A,正答数_2理B,正答数_2英,類型_1国_01,類型_1国_02,類型_1国_03,類型_1国_04,類型_1国_05,類型_1国_06,類型_1国_07,類型_1国_08,類型_1国_09,類型_1国_10,類型_1国_11,類型_1国_12,類型_1国_13,類型_1国_14,類型_1国_15,類型_1国_16,類型_1国_17,類型_1国_18,類型_1国_19,類型_1国_20,類型_1国_21,類型_1国_22,類型_1国_23,類型_1国_24,類型_1国_25,類型_1国_26,類型_1国_27,類型_1国_28,類型_1国_29,類型_1国_30,類型_1国_31,類型_1国_32,類型_1国_33,類型_1国_34,類型_1国_35,類型_1国_36,類型_1国_37,類型_1国_38,類型_1国_39,類型_1国_40,類型_1数_01,類型_1数_02,類型_1数_03,類型_1数_04,類型_1数_05,類型_1数_06,類型_1数_07,類型_1数_08,類型_1数_09,類型_1数_10,類型_1数_11,類型_1数_12,類型_1数_13,類型_1数_14,類型_1数_15,類型_1数_16,類型_1数_17,類型_1数_18,類型_1数_19,類型_1数_20,類型_1数_21,類型_1数_22,類型_1数_23,類型_1数_24,類型_1数_25,類型_1数_26,類型_1数_27,類型_1数_28,類型_1数_29,類型_1数_30,類型_1数_31,類型_1英_01,類型_1英_02,類型_1英_03,類型_1英_04,類型_1英_05,類型_1英_06,類型_1英_07,類型_1英_08,類型_1英_09,類型_1英_10,類型_1英_11,類型_1英_12,類型_1英_13,類型_1英_14,類型_1英_15,類型_1英_16,類型_1英_17,類型_1英_18,類型_1英_19,類型_1英_20,類型_1英_21,類型_1英_22,類型_1英_23,類型_1英_24,類型_1英_25,類型_1英_26,類型_1英_27,類型_1英_28,類型_1英_29,類型_1英_30,類型_1英_31,類型_1英_32,類型_1英_33,類型_1英_34,類型_1英_35,類型_1英_36,類型_1英_37,類型_2国_01,類型_2国_02,類型_2国_03,類型_2国_04,類型_2国_05,類型_2国_06,類型_2国_07,類型_2国_08,類型_2国_09,類型_2国_10,類型_2国_11,類型_2国_12,類型_2国_13,類型_2国_14,類型_2国_15,類型_2国_16,類型_2国_17,類型_2国_18,類型_2国_19,類型_2国_20,類型_2国_21,類型_2国_22,類型_2国_23,類型_2国_24,類型_2国_25,類型_2国_26,類型_2国_27,類型_2国_28,類型_2国_29,類型_2国_30,類型_2国_31,類型_2国_32,類型_2国_33,類型_2国_34,類型_2国_35,類型_2国_36,類型_2国_37,類型_2国_38,類型_2社A_01,類型_2社A_02,類型_2社A_03,類型_2社A_04,類型_2社A_05,類型_2社A_06,類型_2社A_07,類型_2社A_08,類型_2社A_09,類型_2社A_10,類型_2社A_11,類型_2社A_12,類型_2社A_13,類型_2社A_14,類型_2社A_15,類型_2社A_16,類型_2社A_17,類型_2社A_18,類型_2社A_19,類型_2社A_20,類型_2社A_21,類型_2社A_22,類型_2社A_23,類型_2社A_24,類型_2社A_25,類型_2社A_26,類型_2社A_27,類型_2社A_28,類型_2社A_29,類型_2社A_30,類型_2社A_31,類型_2社A_32,類型_2社A_33,類型_2社A_34,類型_2社A_35,類型_2社B_01,類型_2社B_02,類型_2社B_03,類型_2社B_04,類型_2社B_05,類型_2社B_06,類型_2社B_07,類型_2社B_08,類型_2社B_09,類型_2社B_10,類型_2社B_11,類型_2社B_12,類型_2社B_13,類型_2社B_14,類型_2社B_15,類型_2社B_16,類型_2社B_17,類型_2社B_18,類型_2社B_19,類型_2社B_20,類型_2社B_21,類型_2社B_22,類型_2社B_23,類型_2社B_24,類型_2社B_25,類型_2社B_26,類型_2社B_27,類型_2社B_28,類型_2社B_29,類型_2社B_30,類型_2社B_31,類型_2社B_32,類型_2社B_33,類型_2社B_34,類型_2社B_35,類型_2数_01,類型_2数_02,類型_2数_03,類型_2数_04,類型_2数_05,類型_2数_06,類型_2数_07,類型_2数_08,類型_2数_09,類型_2数_10,類型_2数_11,類型_2数_12,類型_2数_13,類型_2数_14,類型_2数_15,類型_2数_16,類型_2数_17,類型_2数_18,類型_2数_19,類型_2数_20,類型_2数_21,類型_2数_22,類型_2数_23,類型_2数_24,類型_2数_25,類型_2数_26,類型_2数_27,類型_2数_28,類型_2数_29,類型_2数_30,類型_2数_31,類型_2数_32,類型_2数_33,類型_2理A_01,類型_2理A_02,類型_2理A_03,類型_2理A_04,類型_2理A_05,類型_2理A_06,類型_2理A_07,類型_2理A_08,類型_2理A_09,類型_2理A_10,類型_2理A_11,類型_2理A_12,類型_2理A_13,類型_2理A_14,類型_2理A_15,類型_2理A_16,類型_2理A_17,類型_2理A_18,類型_2理A_19,類型_2理A_20,類型_2理A_21,類型_2理A_22,類型_2理A_23,類型_2理A_24,類型_2理A_25,類型_2理A_26,類型_2理A_27,類型_2理A_28,類型_2理A_29,類型_2理A_30,類型_2理A_31,類型_2理A_32,類型_2理B_01,類型_2理B_02,類型_2理B_03,類型_2理B_04,類型_2理B_05,類型_2理B_06,類型_2理B_07,類型_2理B_08,類型_2理B_09,類型_2理B_10,類型_2理B_11,類型_2理B_12,類型_2理B_13,類型_2理B_14,類型_2理B_15,類型_2理B_16,類型_2理B_17,類型_2理B_18,類型_2理B_19,類型_2理B_20,類型_2理B_21,類型_2理B_22,類型_2理B_23,類型_2理B_24,類型_2理B_25,類型_2理B_26,類型_2理B_27,類型_2理B_28,類型_2理B_29,類型_2理B_30,類型_2理B_31,類型_2理B_32,類型_2英_01,類型_2英_02,類型_2英_03,類型_2英_04,類型_2英_05,類型_2英_06,類型_2英_07,類型_2英_08,類型_2英_09,類型_2英_10,類型_2英_11,類型_2英_12,類型_2英_13,類型_2英_14,類型_2英_15,類型_2英_16,類型_2英_17,類型_2英_18,類型_2英_19,類型_2英_20,類型_2英_21,類型_2英_22,類型_2英_23,類型_2英_24,類型_2英_25,類型_2英_26,類型_2英_27,類型_2英_28,類型_2英_29,類型_2英_30,類型_2英_31,類型_2英_32,類型_2英_33,類型_2英_34,類型_2英_35,類型_2英_36,類型_2英_37,正誤_1国_01,正誤_1国_02,正誤_1国_03,正誤_1国_04,正誤_1国_05,正誤_1国_06,正誤_1国_07,正誤_1国_08,正誤_1国_09,正誤_1国_10,正誤_1国_11,正誤_1国_12,正誤_1国_13,正誤_1国_14,正誤_1国_15,正誤_1国_16,正誤_1国_17,正誤_1国_18,正誤_1国_19,正誤_1国_20,正誤_1国_21,正誤_1国_22,正誤_1国_23,正誤_1国_24,正誤_1国_25,正誤_1国_26,正誤_1国_27,正誤_1国_28,正誤_1国_29,正誤_1国_30,正誤_1国_31,正誤_1国_32,正誤_1国_33,正誤_1国_34,正誤_1国_35,正誤_1国_36,正誤_1国_37,正誤_1国_38,正誤_1国_39,正誤_1国_40,正誤_1数_01,正誤_1数_02,正誤_1数_03,正誤_1数_04,正誤_1数_05,正誤_1数_06,正誤_1数_07,正誤_1数_08,正誤_1数_09,正誤_1数_10,正誤_1数_11,正誤_1数_12,正誤_1数_13,正誤_1数_14,正誤_1数_15,正誤_1数_16,正誤_1数_17,正誤_1数_18,正誤_1数_19,正誤_1数_20,正誤_1数_21,正誤_1数_22,正誤_1数_23,正誤_1数_24,正誤_1数_25,正誤_1数_26,正誤_1数_27,正誤_1数_28,正誤_1数_29,正誤_1数_30,正誤_1数_31,正誤_1英_01,正誤_1英_02,正誤_1英_03,正誤_1英_04,正誤_1英_05,正誤_1英_06,正誤_1英_07,正誤_1英_08,正誤_1英_09,正誤_1英_10,正誤_1英_11,正誤_1英_12,正誤_1英_13,正誤_1英_14,正誤_1英_15,正誤_1英_16,正誤_1英_17,正誤_1英_18,正誤_1英_19,正誤_1英_20,正誤_1英_21,正誤_1英_22,正誤_1英_23,正誤_1英_24,正誤_1英_25,正誤_1英_26,正誤_1英_27,正誤_1英_28,正誤_1英_29,正誤_1英_30,正誤_1英_31,正誤_1英_32,正誤_1英_33,正誤_1英_34,正誤_1英_35,正誤_1英_36,正誤_1英_37,正誤_2国_01,正誤_2国_02,正誤_2国_03,正誤_2国_04,正誤_2国_05,正誤_2国_06,正誤_2国_07,正誤_2国_08,正誤_2国_09,正誤_2国_10,正誤_2国_11,正誤_2国_12,正誤_2国_13,正誤_2国_14,正誤_2国_15,正誤_2国_16,正誤_2国_17,正誤_2国_18,正誤_2国_19,正誤_2国_20,正誤_2国_21,正誤_2国_22,正誤_2国_23,正誤_2国_24,正誤_2国_25,正誤_2国_26,正誤_2国_27,正誤_2国_28,正誤_2国_29,正誤_2国_30,正誤_2国_31,正誤_2国_32,正誤_2国_33,正誤_2国_34,正誤_2国_35,正誤_2国_36,正誤_2国_37,正誤_2国_38,正誤_2社A_01,正誤_2社A_02,正誤_2社A_03,正誤_2社A_04,正誤_2社A_05,正誤_2社A_06,正誤_2社A_07,正誤_2社A_08,正誤_2社A_09,正誤_2社A_10,正誤_2社A_11,正誤_2社A_12,正誤_2社A_13,正誤_2社A_14,正誤_2社A_15,正誤_2社A_16,正誤_2社A_17,正誤_2社A_18,正誤_2社A_19,正誤_2社A_20,正誤_2社A_21,正誤_2社A_22,正誤_2社A_23,正誤_2社A_24,正誤_2社A_25,正誤_2社A_26,正誤_2社A_27,正誤_2社A_28,正誤_2社A_29,正誤_2社A_30,正誤_2社A_31,正誤_2社A_32,正誤_2社A_33,正誤_2社A_34,正誤_2社A_35,正誤_2社B_01,正誤_2社B_02,正誤_2社B_03,正誤_2社B_04,正誤_2社B_05,正誤_2社B_06,正誤_2社B_07,正誤_2社B_08,正誤_2社B_09,正誤_2社B_10,正誤_2社B_11,正誤_2社B_12,正誤_2社B_13,正誤_2社B_14,正誤_2社B_15,正誤_2社B_16,正誤_2社B_17,正誤_2社B_18,正誤_2社B_19,正誤_2社B_20,正誤_2社B_21,正誤_2社B_22,正誤_2社B_23,正誤_2社B_24,正誤_2社B_25,正誤_2社B_26,正誤_2社B_27,正誤_2社B_28,正誤_2社B_29,正誤_2社B_30,正誤_2社B_31,正誤_2社B_32,正誤_2社B_33,正誤_2社B_34,正誤_2社B_35,正誤_2数_01,正誤_2数_02,正誤_2数_03,正誤_2数_04,正誤_2数_05,正誤_2数_06,正誤_2数_07,正誤_2数_08,正誤_2数_09,正誤_2数_10,正誤_2数_11,正誤_2数_12,正誤_2数_13,正誤_2数_14,正誤_2数_15,正誤_2数_16,正誤_2数_17,正誤_2数_18,正誤_2数_19,正誤_2数_20,正誤_2数_21,正誤_2数_22,正誤_2数_23,正誤_2数_24,正誤_2数_25,正誤_2数_26,正誤_2数_27,正誤_2数_28,正誤_2数_29,正誤_2数_30,正誤_2数_31,正誤_2数_32,正誤_2数_33,正誤_2理A_01,正誤_2理A_02,正誤_2理A_03,正誤_2理A_04,正誤_2理A_05,正誤_2理A_06,正誤_2理A_07,正誤_2理A_08,正誤_2理A_09,正誤_2理A_10,正誤_2理A_11,正誤_2理A_12,正誤_2理A_13,正誤_2理A_14,正誤_2理A_15,正誤_2理A_16,正誤_2理A_17,正誤_2理A_18,正誤_2理A_19,正誤_2理A_20,正誤_2理A_21,正誤_2理A_22,正誤_2理A_23,正誤_2理A_24,正誤_2理A_25,正誤_2理A_26,正誤_2理A_27,正誤_2理A_28,正誤_2理A_29,正誤_2理A_30,正誤_2理A_31,正誤_2理A_32,正誤_2理B_01,正誤_2理B_02,正誤_2理B_03,正誤_2理B_04,正誤_2理B_05,正誤_2理B_06,正誤_2理B_07,正誤_2理B_08,正誤_2理B_09,正誤_2理B_10,正誤_2理B_11,正誤_2理B_12,正誤_2理B_13,正誤_2理B_14,正誤_2理B_15,正誤_2理B_16,正誤_2理B_17,正誤_2理B_18,正誤_2理B_19,正誤_2理B_20,正誤_2理B_21,正誤_2理B_22,正誤_2理B_23,正誤_2理B_24,正誤_2理B_25,正誤_2理B_26,正誤_2理B_27,正誤_2理B_28,正誤_2理B_29,正誤_2理B_30,正誤_2理B_31,正誤_2理B_32,正誤_2英_01,正誤_2英_02,正誤_2英_03,正誤_2英_04,正誤_2英_05,正誤_2英_06,正誤_2英_07,正誤_2英_08,正誤_2英_09,正誤_2英_10,正誤_2英_11,正誤_2英_12,正誤_2英_13,正誤_2英_14,正誤_2英_15,正誤_2英_16,正誤_2英_17,正誤_2英_18,正誤_2英_19,正誤_2英_20,正誤_2英_21,正誤_2英_22,正誤_2英_23,正誤_2英_24,正誤_2英_25,正誤_2英_26,正誤_2英_27,正誤_2英_28,正誤_2英_29,正誤_2英_30,正誤_2英_31,正誤_2英_32,正誤_2英_33,正誤_2英_34,正誤_2英_35,正誤_2英_36,正誤_2英_37\n",
    "\n",
    "#display(df.head(5))"
   ]
  },
  {
   "cell_type": "code",
   "execution_count": 9,
   "metadata": {},
   "outputs": [
    {
     "data": {
      "text/html": [
       "<div>\n",
       "<style scoped>\n",
       "    .dataframe tbody tr th:only-of-type {\n",
       "        vertical-align: middle;\n",
       "    }\n",
       "\n",
       "    .dataframe tbody tr th {\n",
       "        vertical-align: top;\n",
       "    }\n",
       "\n",
       "    .dataframe thead th {\n",
       "        text-align: right;\n",
       "    }\n",
       "</style>\n",
       "<table border=\"1\" class=\"dataframe\">\n",
       "  <thead>\n",
       "    <tr style=\"text-align: right;\">\n",
       "      <th></th>\n",
       "      <th>K</th>\n",
       "      <th>S</th>\n",
       "      <th>E</th>\n",
       "    </tr>\n",
       "    <tr>\n",
       "      <th>SCC</th>\n",
       "      <th></th>\n",
       "      <th></th>\n",
       "      <th></th>\n",
       "    </tr>\n",
       "  </thead>\n",
       "  <tbody>\n",
       "    <tr>\n",
       "      <th>55020091</th>\n",
       "      <td>1</td>\n",
       "      <td>1</td>\n",
       "      <td>1</td>\n",
       "    </tr>\n",
       "    <tr>\n",
       "      <th>55020091</th>\n",
       "      <td>1</td>\n",
       "      <td>1</td>\n",
       "      <td>1</td>\n",
       "    </tr>\n",
       "    <tr>\n",
       "      <th>55020091</th>\n",
       "      <td>1</td>\n",
       "      <td>1</td>\n",
       "      <td>1</td>\n",
       "    </tr>\n",
       "    <tr>\n",
       "      <th>55020091</th>\n",
       "      <td>1</td>\n",
       "      <td>1</td>\n",
       "      <td>1</td>\n",
       "    </tr>\n",
       "    <tr>\n",
       "      <th>55020091</th>\n",
       "      <td>1</td>\n",
       "      <td>1</td>\n",
       "      <td>1</td>\n",
       "    </tr>\n",
       "  </tbody>\n",
       "</table>\n",
       "</div>"
      ],
      "text/plain": [
       "          K  S  E\n",
       "SCC              \n",
       "55020091  1  1  1\n",
       "55020091  1  1  1\n",
       "55020091  1  1  1\n",
       "55020091  1  1  1\n",
       "55020091  1  1  1"
      ]
     },
     "metadata": {},
     "output_type": "display_data"
    },
    {
     "data": {
      "text/plain": [
       "(63407, 3)"
      ]
     },
     "metadata": {},
     "output_type": "display_data"
    }
   ],
   "source": [
    "df = df.set_index('SCC')\n",
    "display(df.head(5))\n",
    "display(df.shape)"
   ]
  },
  {
   "cell_type": "code",
   "execution_count": 18,
   "metadata": {},
   "outputs": [
    {
     "name": "stdout",
     "output_type": "stream",
     "text": [
      "            K    S    E\n",
      "SCC                    \n",
      "50120001  190  190  190\n",
      "50120002  170  170  170\n",
      "50120003  295  295  295\n",
      "50120004  178  177  178\n",
      "50120005  113  114  114\n"
     ]
    }
   ],
   "source": [
    "df1 = df.groupby(['SCC']).sum()\n",
    "print(df1.head(5))"
   ]
  },
  {
   "cell_type": "markdown",
   "metadata": {},
   "source": [
    "---\n",
    "## 3. Totalが10以上のレコードのうち、Pro1～Pro3のTotalに対する割合が大きい(30%以上)レコードを抽出する"
   ]
  },
  {
   "cell_type": "markdown",
   "metadata": {},
   "source": [
    "### 3-1.Totalが10以上のレコードを残す。10未満を削除。  \n",
    "レコード数が変わるので、deepcopyをして新しいDataFrameを生成しておく。"
   ]
  },
  {
   "cell_type": "code",
   "execution_count": 10,
   "metadata": {},
   "outputs": [
    {
     "ename": "KeyError",
     "evalue": "'Total'",
     "output_type": "error",
     "traceback": [
      "\u001b[1;31m---------------------------------------------------------------------------\u001b[0m",
      "\u001b[1;31mKeyError\u001b[0m                                  Traceback (most recent call last)",
      "\u001b[1;32m~\\AppData\\Local\\Continuum\\anaconda3\\lib\\site-packages\\pandas\\core\\indexes\\base.py\u001b[0m in \u001b[0;36mget_loc\u001b[1;34m(self, key, method, tolerance)\u001b[0m\n\u001b[0;32m   2656\u001b[0m             \u001b[1;32mtry\u001b[0m\u001b[1;33m:\u001b[0m\u001b[1;33m\u001b[0m\u001b[1;33m\u001b[0m\u001b[0m\n\u001b[1;32m-> 2657\u001b[1;33m                 \u001b[1;32mreturn\u001b[0m \u001b[0mself\u001b[0m\u001b[1;33m.\u001b[0m\u001b[0m_engine\u001b[0m\u001b[1;33m.\u001b[0m\u001b[0mget_loc\u001b[0m\u001b[1;33m(\u001b[0m\u001b[0mkey\u001b[0m\u001b[1;33m)\u001b[0m\u001b[1;33m\u001b[0m\u001b[1;33m\u001b[0m\u001b[0m\n\u001b[0m\u001b[0;32m   2658\u001b[0m             \u001b[1;32mexcept\u001b[0m \u001b[0mKeyError\u001b[0m\u001b[1;33m:\u001b[0m\u001b[1;33m\u001b[0m\u001b[1;33m\u001b[0m\u001b[0m\n",
      "\u001b[1;32mpandas/_libs/index.pyx\u001b[0m in \u001b[0;36mpandas._libs.index.IndexEngine.get_loc\u001b[1;34m()\u001b[0m\n",
      "\u001b[1;32mpandas/_libs/index.pyx\u001b[0m in \u001b[0;36mpandas._libs.index.IndexEngine.get_loc\u001b[1;34m()\u001b[0m\n",
      "\u001b[1;32mpandas/_libs/hashtable_class_helper.pxi\u001b[0m in \u001b[0;36mpandas._libs.hashtable.PyObjectHashTable.get_item\u001b[1;34m()\u001b[0m\n",
      "\u001b[1;32mpandas/_libs/hashtable_class_helper.pxi\u001b[0m in \u001b[0;36mpandas._libs.hashtable.PyObjectHashTable.get_item\u001b[1;34m()\u001b[0m\n",
      "\u001b[1;31mKeyError\u001b[0m: 'Total'",
      "\nDuring handling of the above exception, another exception occurred:\n",
      "\u001b[1;31mKeyError\u001b[0m                                  Traceback (most recent call last)",
      "\u001b[1;32m<ipython-input-10-c90b2853c802>\u001b[0m in \u001b[0;36m<module>\u001b[1;34m\u001b[0m\n\u001b[0;32m      1\u001b[0m \u001b[1;32mimport\u001b[0m \u001b[0mcopy\u001b[0m\u001b[1;33m\u001b[0m\u001b[1;33m\u001b[0m\u001b[0m\n\u001b[0;32m      2\u001b[0m \u001b[0mdf_rate\u001b[0m \u001b[1;33m=\u001b[0m \u001b[0mpd\u001b[0m\u001b[1;33m.\u001b[0m\u001b[0mDataFrame\u001b[0m\u001b[1;33m(\u001b[0m\u001b[1;33m)\u001b[0m\u001b[1;33m\u001b[0m\u001b[1;33m\u001b[0m\u001b[0m\n\u001b[1;32m----> 3\u001b[1;33m \u001b[0mdf_rate\u001b[0m \u001b[1;33m=\u001b[0m \u001b[0mcopy\u001b[0m\u001b[1;33m.\u001b[0m\u001b[0mdeepcopy\u001b[0m\u001b[1;33m(\u001b[0m\u001b[0mdf\u001b[0m\u001b[1;33m[\u001b[0m\u001b[0mdf\u001b[0m\u001b[1;33m[\u001b[0m\u001b[1;34m'Total'\u001b[0m\u001b[1;33m]\u001b[0m \u001b[1;33m>=\u001b[0m \u001b[1;36m10\u001b[0m\u001b[1;33m]\u001b[0m\u001b[1;33m)\u001b[0m\u001b[1;33m\u001b[0m\u001b[1;33m\u001b[0m\u001b[0m\n\u001b[0m\u001b[0;32m      4\u001b[0m \u001b[0mdisplay\u001b[0m\u001b[1;33m(\u001b[0m\u001b[0mdf_rate\u001b[0m\u001b[1;33m.\u001b[0m\u001b[0mhead\u001b[0m\u001b[1;33m(\u001b[0m\u001b[1;36m5\u001b[0m\u001b[1;33m)\u001b[0m\u001b[1;33m)\u001b[0m\u001b[1;33m\u001b[0m\u001b[1;33m\u001b[0m\u001b[0m\n\u001b[0;32m      5\u001b[0m \u001b[0mdisplay\u001b[0m\u001b[1;33m(\u001b[0m\u001b[0mdf_rate\u001b[0m\u001b[1;33m.\u001b[0m\u001b[0mshape\u001b[0m\u001b[1;33m)\u001b[0m\u001b[1;33m\u001b[0m\u001b[1;33m\u001b[0m\u001b[0m\n",
      "\u001b[1;32m~\\AppData\\Local\\Continuum\\anaconda3\\lib\\site-packages\\pandas\\core\\frame.py\u001b[0m in \u001b[0;36m__getitem__\u001b[1;34m(self, key)\u001b[0m\n\u001b[0;32m   2925\u001b[0m             \u001b[1;32mif\u001b[0m \u001b[0mself\u001b[0m\u001b[1;33m.\u001b[0m\u001b[0mcolumns\u001b[0m\u001b[1;33m.\u001b[0m\u001b[0mnlevels\u001b[0m \u001b[1;33m>\u001b[0m \u001b[1;36m1\u001b[0m\u001b[1;33m:\u001b[0m\u001b[1;33m\u001b[0m\u001b[1;33m\u001b[0m\u001b[0m\n\u001b[0;32m   2926\u001b[0m                 \u001b[1;32mreturn\u001b[0m \u001b[0mself\u001b[0m\u001b[1;33m.\u001b[0m\u001b[0m_getitem_multilevel\u001b[0m\u001b[1;33m(\u001b[0m\u001b[0mkey\u001b[0m\u001b[1;33m)\u001b[0m\u001b[1;33m\u001b[0m\u001b[1;33m\u001b[0m\u001b[0m\n\u001b[1;32m-> 2927\u001b[1;33m             \u001b[0mindexer\u001b[0m \u001b[1;33m=\u001b[0m \u001b[0mself\u001b[0m\u001b[1;33m.\u001b[0m\u001b[0mcolumns\u001b[0m\u001b[1;33m.\u001b[0m\u001b[0mget_loc\u001b[0m\u001b[1;33m(\u001b[0m\u001b[0mkey\u001b[0m\u001b[1;33m)\u001b[0m\u001b[1;33m\u001b[0m\u001b[1;33m\u001b[0m\u001b[0m\n\u001b[0m\u001b[0;32m   2928\u001b[0m             \u001b[1;32mif\u001b[0m \u001b[0mis_integer\u001b[0m\u001b[1;33m(\u001b[0m\u001b[0mindexer\u001b[0m\u001b[1;33m)\u001b[0m\u001b[1;33m:\u001b[0m\u001b[1;33m\u001b[0m\u001b[1;33m\u001b[0m\u001b[0m\n\u001b[0;32m   2929\u001b[0m                 \u001b[0mindexer\u001b[0m \u001b[1;33m=\u001b[0m \u001b[1;33m[\u001b[0m\u001b[0mindexer\u001b[0m\u001b[1;33m]\u001b[0m\u001b[1;33m\u001b[0m\u001b[1;33m\u001b[0m\u001b[0m\n",
      "\u001b[1;32m~\\AppData\\Local\\Continuum\\anaconda3\\lib\\site-packages\\pandas\\core\\indexes\\base.py\u001b[0m in \u001b[0;36mget_loc\u001b[1;34m(self, key, method, tolerance)\u001b[0m\n\u001b[0;32m   2657\u001b[0m                 \u001b[1;32mreturn\u001b[0m \u001b[0mself\u001b[0m\u001b[1;33m.\u001b[0m\u001b[0m_engine\u001b[0m\u001b[1;33m.\u001b[0m\u001b[0mget_loc\u001b[0m\u001b[1;33m(\u001b[0m\u001b[0mkey\u001b[0m\u001b[1;33m)\u001b[0m\u001b[1;33m\u001b[0m\u001b[1;33m\u001b[0m\u001b[0m\n\u001b[0;32m   2658\u001b[0m             \u001b[1;32mexcept\u001b[0m \u001b[0mKeyError\u001b[0m\u001b[1;33m:\u001b[0m\u001b[1;33m\u001b[0m\u001b[1;33m\u001b[0m\u001b[0m\n\u001b[1;32m-> 2659\u001b[1;33m                 \u001b[1;32mreturn\u001b[0m \u001b[0mself\u001b[0m\u001b[1;33m.\u001b[0m\u001b[0m_engine\u001b[0m\u001b[1;33m.\u001b[0m\u001b[0mget_loc\u001b[0m\u001b[1;33m(\u001b[0m\u001b[0mself\u001b[0m\u001b[1;33m.\u001b[0m\u001b[0m_maybe_cast_indexer\u001b[0m\u001b[1;33m(\u001b[0m\u001b[0mkey\u001b[0m\u001b[1;33m)\u001b[0m\u001b[1;33m)\u001b[0m\u001b[1;33m\u001b[0m\u001b[1;33m\u001b[0m\u001b[0m\n\u001b[0m\u001b[0;32m   2660\u001b[0m         \u001b[0mindexer\u001b[0m \u001b[1;33m=\u001b[0m \u001b[0mself\u001b[0m\u001b[1;33m.\u001b[0m\u001b[0mget_indexer\u001b[0m\u001b[1;33m(\u001b[0m\u001b[1;33m[\u001b[0m\u001b[0mkey\u001b[0m\u001b[1;33m]\u001b[0m\u001b[1;33m,\u001b[0m \u001b[0mmethod\u001b[0m\u001b[1;33m=\u001b[0m\u001b[0mmethod\u001b[0m\u001b[1;33m,\u001b[0m \u001b[0mtolerance\u001b[0m\u001b[1;33m=\u001b[0m\u001b[0mtolerance\u001b[0m\u001b[1;33m)\u001b[0m\u001b[1;33m\u001b[0m\u001b[1;33m\u001b[0m\u001b[0m\n\u001b[0;32m   2661\u001b[0m         \u001b[1;32mif\u001b[0m \u001b[0mindexer\u001b[0m\u001b[1;33m.\u001b[0m\u001b[0mndim\u001b[0m \u001b[1;33m>\u001b[0m \u001b[1;36m1\u001b[0m \u001b[1;32mor\u001b[0m \u001b[0mindexer\u001b[0m\u001b[1;33m.\u001b[0m\u001b[0msize\u001b[0m \u001b[1;33m>\u001b[0m \u001b[1;36m1\u001b[0m\u001b[1;33m:\u001b[0m\u001b[1;33m\u001b[0m\u001b[1;33m\u001b[0m\u001b[0m\n",
      "\u001b[1;32mpandas/_libs/index.pyx\u001b[0m in \u001b[0;36mpandas._libs.index.IndexEngine.get_loc\u001b[1;34m()\u001b[0m\n",
      "\u001b[1;32mpandas/_libs/index.pyx\u001b[0m in \u001b[0;36mpandas._libs.index.IndexEngine.get_loc\u001b[1;34m()\u001b[0m\n",
      "\u001b[1;32mpandas/_libs/hashtable_class_helper.pxi\u001b[0m in \u001b[0;36mpandas._libs.hashtable.PyObjectHashTable.get_item\u001b[1;34m()\u001b[0m\n",
      "\u001b[1;32mpandas/_libs/hashtable_class_helper.pxi\u001b[0m in \u001b[0;36mpandas._libs.hashtable.PyObjectHashTable.get_item\u001b[1;34m()\u001b[0m\n",
      "\u001b[1;31mKeyError\u001b[0m: 'Total'"
     ]
    }
   ],
   "source": [
    "import copy\n",
    "df_rate = pd.DataFrame()\n",
    "df_rate = copy.deepcopy(df[df['Total'] >= 10])\n",
    "display(df_rate.head(5))\n",
    "display(df_rate.shape)"
   ]
  },
  {
   "cell_type": "markdown",
   "metadata": {},
   "source": [
    "### 3-2. Pro1～Pro3の値をTotalで割り、割合をパーセントで求める"
   ]
  },
  {
   "cell_type": "code",
   "execution_count": 5,
   "metadata": {},
   "outputs": [
    {
     "data": {
      "text/html": [
       "<div>\n",
       "<style scoped>\n",
       "    .dataframe tbody tr th:only-of-type {\n",
       "        vertical-align: middle;\n",
       "    }\n",
       "\n",
       "    .dataframe tbody tr th {\n",
       "        vertical-align: top;\n",
       "    }\n",
       "\n",
       "    .dataframe thead th {\n",
       "        text-align: right;\n",
       "    }\n",
       "</style>\n",
       "<table border=\"1\" class=\"dataframe\">\n",
       "  <thead>\n",
       "    <tr style=\"text-align: right;\">\n",
       "      <th></th>\n",
       "      <th>Total</th>\n",
       "      <th>Pro1-1</th>\n",
       "      <th>Pro1-2</th>\n",
       "      <th>Pro1-3</th>\n",
       "      <th>Pro2</th>\n",
       "      <th>Pro3</th>\n",
       "    </tr>\n",
       "    <tr>\n",
       "      <th>SCC</th>\n",
       "      <th></th>\n",
       "      <th></th>\n",
       "      <th></th>\n",
       "      <th></th>\n",
       "      <th></th>\n",
       "      <th></th>\n",
       "    </tr>\n",
       "  </thead>\n",
       "  <tbody>\n",
       "    <tr>\n",
       "      <th>110001</th>\n",
       "      <td>100.0</td>\n",
       "      <td>0.961538</td>\n",
       "      <td>0.961538</td>\n",
       "      <td>0.000000</td>\n",
       "      <td>0.961538</td>\n",
       "      <td>0.000000</td>\n",
       "    </tr>\n",
       "    <tr>\n",
       "      <th>110002</th>\n",
       "      <td>100.0</td>\n",
       "      <td>2.105263</td>\n",
       "      <td>2.105263</td>\n",
       "      <td>0.000000</td>\n",
       "      <td>0.000000</td>\n",
       "      <td>0.000000</td>\n",
       "    </tr>\n",
       "    <tr>\n",
       "      <th>110003</th>\n",
       "      <td>100.0</td>\n",
       "      <td>7.766990</td>\n",
       "      <td>4.854369</td>\n",
       "      <td>3.883495</td>\n",
       "      <td>14.563107</td>\n",
       "      <td>0.970874</td>\n",
       "    </tr>\n",
       "    <tr>\n",
       "      <th>110004</th>\n",
       "      <td>100.0</td>\n",
       "      <td>12.500000</td>\n",
       "      <td>1.923077</td>\n",
       "      <td>3.846154</td>\n",
       "      <td>12.500000</td>\n",
       "      <td>0.000000</td>\n",
       "    </tr>\n",
       "    <tr>\n",
       "      <th>120001</th>\n",
       "      <td>100.0</td>\n",
       "      <td>17.500000</td>\n",
       "      <td>10.000000</td>\n",
       "      <td>0.000000</td>\n",
       "      <td>65.000000</td>\n",
       "      <td>2.500000</td>\n",
       "    </tr>\n",
       "  </tbody>\n",
       "</table>\n",
       "</div>"
      ],
      "text/plain": [
       "        Total     Pro1-1     Pro1-2    Pro1-3       Pro2      Pro3\n",
       "SCC                                                               \n",
       "110001  100.0   0.961538   0.961538  0.000000   0.961538  0.000000\n",
       "110002  100.0   2.105263   2.105263  0.000000   0.000000  0.000000\n",
       "110003  100.0   7.766990   4.854369  3.883495  14.563107  0.970874\n",
       "110004  100.0  12.500000   1.923077  3.846154  12.500000  0.000000\n",
       "120001  100.0  17.500000  10.000000  0.000000  65.000000  2.500000"
      ]
     },
     "metadata": {},
     "output_type": "display_data"
    }
   ],
   "source": [
    "for idx, df_select in df_rate.iterrows():\n",
    "    # 1行ずつ取り出し、各列をTotalで割って100掛ける\n",
    "    df_select = df_select / df_select['Total'] * 100\n",
    "    # 元のDataFrameの値を更新\n",
    "    df_rate.loc[idx] = df_select\n",
    "\n",
    "display(df_rate.head(5))"
   ]
  },
  {
   "cell_type": "markdown",
   "metadata": {},
   "source": [
    "### 3-3. Pro1～Pro3の値に一つでも30以上があればその行を抽出する。 \n",
    "#### 方法１：Pro1~Pro3の列に、一つでも30以上があれば抽出。\n",
    "  - 抽出後は、整数に丸めておく。"
   ]
  },
  {
   "cell_type": "code",
   "execution_count": 6,
   "metadata": {},
   "outputs": [
    {
     "data": {
      "text/html": [
       "<div>\n",
       "<style scoped>\n",
       "    .dataframe tbody tr th:only-of-type {\n",
       "        vertical-align: middle;\n",
       "    }\n",
       "\n",
       "    .dataframe tbody tr th {\n",
       "        vertical-align: top;\n",
       "    }\n",
       "\n",
       "    .dataframe thead th {\n",
       "        text-align: right;\n",
       "    }\n",
       "</style>\n",
       "<table border=\"1\" class=\"dataframe\">\n",
       "  <thead>\n",
       "    <tr style=\"text-align: right;\">\n",
       "      <th></th>\n",
       "      <th>Total</th>\n",
       "      <th>Pro1-1</th>\n",
       "      <th>Pro1-2</th>\n",
       "      <th>Pro1-3</th>\n",
       "      <th>Pro2</th>\n",
       "      <th>Pro3</th>\n",
       "    </tr>\n",
       "    <tr>\n",
       "      <th>SCC</th>\n",
       "      <th></th>\n",
       "      <th></th>\n",
       "      <th></th>\n",
       "      <th></th>\n",
       "      <th></th>\n",
       "      <th></th>\n",
       "    </tr>\n",
       "  </thead>\n",
       "  <tbody>\n",
       "    <tr>\n",
       "      <th>120001</th>\n",
       "      <td>100.0</td>\n",
       "      <td>17.500000</td>\n",
       "      <td>10.000000</td>\n",
       "      <td>0.000000</td>\n",
       "      <td>65.000000</td>\n",
       "      <td>2.500000</td>\n",
       "    </tr>\n",
       "    <tr>\n",
       "      <th>120008</th>\n",
       "      <td>100.0</td>\n",
       "      <td>7.317073</td>\n",
       "      <td>2.439024</td>\n",
       "      <td>7.317073</td>\n",
       "      <td>31.707317</td>\n",
       "      <td>0.000000</td>\n",
       "    </tr>\n",
       "    <tr>\n",
       "      <th>120009</th>\n",
       "      <td>100.0</td>\n",
       "      <td>16.666667</td>\n",
       "      <td>0.000000</td>\n",
       "      <td>0.000000</td>\n",
       "      <td>33.333333</td>\n",
       "      <td>0.000000</td>\n",
       "    </tr>\n",
       "    <tr>\n",
       "      <th>120018</th>\n",
       "      <td>100.0</td>\n",
       "      <td>6.410256</td>\n",
       "      <td>7.692308</td>\n",
       "      <td>25.641026</td>\n",
       "      <td>50.000000</td>\n",
       "      <td>2.564103</td>\n",
       "    </tr>\n",
       "    <tr>\n",
       "      <th>120019</th>\n",
       "      <td>100.0</td>\n",
       "      <td>15.322581</td>\n",
       "      <td>12.903226</td>\n",
       "      <td>16.129032</td>\n",
       "      <td>41.935484</td>\n",
       "      <td>8.064516</td>\n",
       "    </tr>\n",
       "  </tbody>\n",
       "</table>\n",
       "</div>"
      ],
      "text/plain": [
       "        Total     Pro1-1     Pro1-2     Pro1-3       Pro2      Pro3\n",
       "SCC                                                                \n",
       "120001  100.0  17.500000  10.000000   0.000000  65.000000  2.500000\n",
       "120008  100.0   7.317073   2.439024   7.317073  31.707317  0.000000\n",
       "120009  100.0  16.666667   0.000000   0.000000  33.333333  0.000000\n",
       "120018  100.0   6.410256   7.692308  25.641026  50.000000  2.564103\n",
       "120019  100.0  15.322581  12.903226  16.129032  41.935484  8.064516"
      ]
     },
     "metadata": {},
     "output_type": "display_data"
    },
    {
     "data": {
      "text/plain": [
       "(1598, 6)"
      ]
     },
     "metadata": {},
     "output_type": "display_data"
    }
   ],
   "source": [
    "df_rate_ext1 = df_rate[(df_rate['Pro1-1'] >= 30) | (df_rate['Pro1-2'] >= 30) | (df_rate['Pro1-3'] >= 30) | \n",
    "                       (df_rate['Pro2'] >= 30) | (df_rate['Pro3'] >= 30)]\n",
    "display(df_rate_ext1.head(5))\n",
    "display(df_rate_ext1.shape)"
   ]
  },
  {
   "cell_type": "markdown",
   "metadata": {},
   "source": [
    "#### 方法2 : Pro1～Pro3の全ての要素が30未満の行を削除。"
   ]
  },
  {
   "cell_type": "code",
   "execution_count": 7,
   "metadata": {},
   "outputs": [
    {
     "data": {
      "text/html": [
       "<div>\n",
       "<style scoped>\n",
       "    .dataframe tbody tr th:only-of-type {\n",
       "        vertical-align: middle;\n",
       "    }\n",
       "\n",
       "    .dataframe tbody tr th {\n",
       "        vertical-align: top;\n",
       "    }\n",
       "\n",
       "    .dataframe thead th {\n",
       "        text-align: right;\n",
       "    }\n",
       "</style>\n",
       "<table border=\"1\" class=\"dataframe\">\n",
       "  <thead>\n",
       "    <tr style=\"text-align: right;\">\n",
       "      <th></th>\n",
       "      <th>Total</th>\n",
       "      <th>Pro1-1</th>\n",
       "      <th>Pro1-2</th>\n",
       "      <th>Pro1-3</th>\n",
       "      <th>Pro2</th>\n",
       "      <th>Pro3</th>\n",
       "    </tr>\n",
       "    <tr>\n",
       "      <th>SCC</th>\n",
       "      <th></th>\n",
       "      <th></th>\n",
       "      <th></th>\n",
       "      <th></th>\n",
       "      <th></th>\n",
       "      <th></th>\n",
       "    </tr>\n",
       "  </thead>\n",
       "  <tbody>\n",
       "    <tr>\n",
       "      <th>120001</th>\n",
       "      <td>NaN</td>\n",
       "      <td>NaN</td>\n",
       "      <td>NaN</td>\n",
       "      <td>NaN</td>\n",
       "      <td>65.000000</td>\n",
       "      <td>NaN</td>\n",
       "    </tr>\n",
       "    <tr>\n",
       "      <th>120008</th>\n",
       "      <td>NaN</td>\n",
       "      <td>NaN</td>\n",
       "      <td>NaN</td>\n",
       "      <td>NaN</td>\n",
       "      <td>31.707317</td>\n",
       "      <td>NaN</td>\n",
       "    </tr>\n",
       "    <tr>\n",
       "      <th>120009</th>\n",
       "      <td>NaN</td>\n",
       "      <td>NaN</td>\n",
       "      <td>NaN</td>\n",
       "      <td>NaN</td>\n",
       "      <td>33.333333</td>\n",
       "      <td>NaN</td>\n",
       "    </tr>\n",
       "    <tr>\n",
       "      <th>120018</th>\n",
       "      <td>NaN</td>\n",
       "      <td>NaN</td>\n",
       "      <td>NaN</td>\n",
       "      <td>NaN</td>\n",
       "      <td>50.000000</td>\n",
       "      <td>NaN</td>\n",
       "    </tr>\n",
       "    <tr>\n",
       "      <th>120019</th>\n",
       "      <td>NaN</td>\n",
       "      <td>NaN</td>\n",
       "      <td>NaN</td>\n",
       "      <td>NaN</td>\n",
       "      <td>41.935484</td>\n",
       "      <td>NaN</td>\n",
       "    </tr>\n",
       "  </tbody>\n",
       "</table>\n",
       "</div>"
      ],
      "text/plain": [
       "        Total  Pro1-1  Pro1-2  Pro1-3       Pro2  Pro3\n",
       "SCC                                                   \n",
       "120001    NaN     NaN     NaN     NaN  65.000000   NaN\n",
       "120008    NaN     NaN     NaN     NaN  31.707317   NaN\n",
       "120009    NaN     NaN     NaN     NaN  33.333333   NaN\n",
       "120018    NaN     NaN     NaN     NaN  50.000000   NaN\n",
       "120019    NaN     NaN     NaN     NaN  41.935484   NaN"
      ]
     },
     "metadata": {},
     "output_type": "display_data"
    },
    {
     "data": {
      "text/plain": [
       "(1598, 6)"
      ]
     },
     "metadata": {},
     "output_type": "display_data"
    }
   ],
   "source": [
    "df_rate_ext2 = df_rate[~(df_rate[['Pro1-1', 'Pro1-2', 'Pro1-3', 'Pro2', 'Pro3']] < 30)].dropna(how='all')\n",
    "display(df_rate_ext2.head(5))\n",
    "display(df_rate_ext2.shape)"
   ]
  },
  {
   "cell_type": "markdown",
   "metadata": {},
   "source": [
    "  - index、列名を頼りに、元のデータで上書きする。\n",
    "  - floatをintに変換する。"
   ]
  },
  {
   "cell_type": "code",
   "execution_count": 8,
   "metadata": {},
   "outputs": [
    {
     "data": {
      "text/html": [
       "<div>\n",
       "<style scoped>\n",
       "    .dataframe tbody tr th:only-of-type {\n",
       "        vertical-align: middle;\n",
       "    }\n",
       "\n",
       "    .dataframe tbody tr th {\n",
       "        vertical-align: top;\n",
       "    }\n",
       "\n",
       "    .dataframe thead th {\n",
       "        text-align: right;\n",
       "    }\n",
       "</style>\n",
       "<table border=\"1\" class=\"dataframe\">\n",
       "  <thead>\n",
       "    <tr style=\"text-align: right;\">\n",
       "      <th></th>\n",
       "      <th>Total</th>\n",
       "      <th>Pro1-1</th>\n",
       "      <th>Pro1-2</th>\n",
       "      <th>Pro1-3</th>\n",
       "      <th>Pro2</th>\n",
       "      <th>Pro3</th>\n",
       "    </tr>\n",
       "    <tr>\n",
       "      <th>SCC</th>\n",
       "      <th></th>\n",
       "      <th></th>\n",
       "      <th></th>\n",
       "      <th></th>\n",
       "      <th></th>\n",
       "      <th></th>\n",
       "    </tr>\n",
       "  </thead>\n",
       "  <tbody>\n",
       "    <tr>\n",
       "      <th>120001</th>\n",
       "      <td>100.0</td>\n",
       "      <td>17.500000</td>\n",
       "      <td>10.000000</td>\n",
       "      <td>0.000000</td>\n",
       "      <td>65.000000</td>\n",
       "      <td>2.500000</td>\n",
       "    </tr>\n",
       "    <tr>\n",
       "      <th>120008</th>\n",
       "      <td>100.0</td>\n",
       "      <td>7.317073</td>\n",
       "      <td>2.439024</td>\n",
       "      <td>7.317073</td>\n",
       "      <td>31.707317</td>\n",
       "      <td>0.000000</td>\n",
       "    </tr>\n",
       "    <tr>\n",
       "      <th>120009</th>\n",
       "      <td>100.0</td>\n",
       "      <td>16.666667</td>\n",
       "      <td>0.000000</td>\n",
       "      <td>0.000000</td>\n",
       "      <td>33.333333</td>\n",
       "      <td>0.000000</td>\n",
       "    </tr>\n",
       "    <tr>\n",
       "      <th>120018</th>\n",
       "      <td>100.0</td>\n",
       "      <td>6.410256</td>\n",
       "      <td>7.692308</td>\n",
       "      <td>25.641026</td>\n",
       "      <td>50.000000</td>\n",
       "      <td>2.564103</td>\n",
       "    </tr>\n",
       "    <tr>\n",
       "      <th>120019</th>\n",
       "      <td>100.0</td>\n",
       "      <td>15.322581</td>\n",
       "      <td>12.903226</td>\n",
       "      <td>16.129032</td>\n",
       "      <td>41.935484</td>\n",
       "      <td>8.064516</td>\n",
       "    </tr>\n",
       "  </tbody>\n",
       "</table>\n",
       "</div>"
      ],
      "text/plain": [
       "        Total     Pro1-1     Pro1-2     Pro1-3       Pro2      Pro3\n",
       "SCC                                                                \n",
       "120001  100.0  17.500000  10.000000   0.000000  65.000000  2.500000\n",
       "120008  100.0   7.317073   2.439024   7.317073  31.707317  0.000000\n",
       "120009  100.0  16.666667   0.000000   0.000000  33.333333  0.000000\n",
       "120018  100.0   6.410256   7.692308  25.641026  50.000000  2.564103\n",
       "120019  100.0  15.322581  12.903226  16.129032  41.935484  8.064516"
      ]
     },
     "metadata": {},
     "output_type": "display_data"
    },
    {
     "data": {
      "text/plain": [
       "(1598, 6)"
      ]
     },
     "metadata": {},
     "output_type": "display_data"
    }
   ],
   "source": [
    "df_rate_ext2.update(df_rate)\n",
    "display(df_rate_ext2.head(5))\n",
    "display(df_rate_ext2.shape)"
   ]
  },
  {
   "cell_type": "markdown",
   "metadata": {},
   "source": [
    "---\n",
    "## 4. レコードごとにPro1~Pro3の合計、平均、分散、標準偏差を求める。"
   ]
  },
  {
   "cell_type": "markdown",
   "metadata": {},
   "source": [
    "統計量計算\n",
    "  - 合計\n",
    "  - 平均\n",
    "  - 標準偏差\n",
    "  - 分散"
   ]
  },
  {
   "cell_type": "markdown",
   "metadata": {},
   "source": [
    "#### 方法1 : Pro1～Pro3の列を指定して、統計量を求める。"
   ]
  },
  {
   "cell_type": "code",
   "execution_count": 9,
   "metadata": {
    "scrolled": true
   },
   "outputs": [
    {
     "data": {
      "text/html": [
       "<div>\n",
       "<style scoped>\n",
       "    .dataframe tbody tr th:only-of-type {\n",
       "        vertical-align: middle;\n",
       "    }\n",
       "\n",
       "    .dataframe tbody tr th {\n",
       "        vertical-align: top;\n",
       "    }\n",
       "\n",
       "    .dataframe thead th {\n",
       "        text-align: right;\n",
       "    }\n",
       "</style>\n",
       "<table border=\"1\" class=\"dataframe\">\n",
       "  <thead>\n",
       "    <tr style=\"text-align: right;\">\n",
       "      <th></th>\n",
       "      <th>Sum</th>\n",
       "      <th>Mean</th>\n",
       "      <th>Std</th>\n",
       "      <th>Var</th>\n",
       "    </tr>\n",
       "    <tr>\n",
       "      <th>SCC</th>\n",
       "      <th></th>\n",
       "      <th></th>\n",
       "      <th></th>\n",
       "      <th></th>\n",
       "    </tr>\n",
       "  </thead>\n",
       "  <tbody>\n",
       "    <tr>\n",
       "      <th>120001</th>\n",
       "      <td>95.000000</td>\n",
       "      <td>19.000000</td>\n",
       "      <td>26.610618</td>\n",
       "      <td>708.125000</td>\n",
       "    </tr>\n",
       "    <tr>\n",
       "      <th>120008</th>\n",
       "      <td>48.780488</td>\n",
       "      <td>9.756098</td>\n",
       "      <td>12.673542</td>\n",
       "      <td>160.618679</td>\n",
       "    </tr>\n",
       "    <tr>\n",
       "      <th>120009</th>\n",
       "      <td>50.000000</td>\n",
       "      <td>10.000000</td>\n",
       "      <td>14.907120</td>\n",
       "      <td>222.222222</td>\n",
       "    </tr>\n",
       "    <tr>\n",
       "      <th>120018</th>\n",
       "      <td>92.307692</td>\n",
       "      <td>18.461538</td>\n",
       "      <td>19.749416</td>\n",
       "      <td>390.039448</td>\n",
       "    </tr>\n",
       "    <tr>\n",
       "      <th>120019</th>\n",
       "      <td>94.354839</td>\n",
       "      <td>18.870968</td>\n",
       "      <td>13.270969</td>\n",
       "      <td>176.118626</td>\n",
       "    </tr>\n",
       "  </tbody>\n",
       "</table>\n",
       "</div>"
      ],
      "text/plain": [
       "              Sum       Mean        Std         Var\n",
       "SCC                                                \n",
       "120001  95.000000  19.000000  26.610618  708.125000\n",
       "120008  48.780488   9.756098  12.673542  160.618679\n",
       "120009  50.000000  10.000000  14.907120  222.222222\n",
       "120018  92.307692  18.461538  19.749416  390.039448\n",
       "120019  94.354839  18.870968  13.270969  176.118626"
      ]
     },
     "metadata": {},
     "output_type": "display_data"
    },
    {
     "data": {
      "text/plain": [
       "(1598, 4)"
      ]
     },
     "metadata": {},
     "output_type": "display_data"
    }
   ],
   "source": [
    "df_stat1 = pd.DataFrame()\n",
    "df_stat1['Sum'] = df_rate_ext2[['Pro1-1', 'Pro1-2', 'Pro1-3', 'Pro2', 'Pro3']].sum(axis=1)\n",
    "df_stat1['Mean'] = df_rate_ext2[['Pro1-1', 'Pro1-2', 'Pro1-3', 'Pro2', 'Pro3']].mean(axis=1)\n",
    "df_stat1['Std'] = df_rate_ext2[['Pro1-1', 'Pro1-2', 'Pro1-3', 'Pro2', 'Pro3']].std(axis=1)\n",
    "df_stat1['Var'] = df_rate_ext2[['Pro1-1', 'Pro1-2', 'Pro1-3', 'Pro2', 'Pro3']].var(axis=1)\n",
    "display(df_stat1.head(5))\n",
    "display(df_stat1.shape)"
   ]
  },
  {
   "cell_type": "markdown",
   "metadata": {},
   "source": [
    "#### 方法2 : 不要な列'Total'を削除しておいて、全ての要素の統計量を求める。"
   ]
  },
  {
   "cell_type": "code",
   "execution_count": 10,
   "metadata": {},
   "outputs": [
    {
     "data": {
      "text/html": [
       "<div>\n",
       "<style scoped>\n",
       "    .dataframe tbody tr th:only-of-type {\n",
       "        vertical-align: middle;\n",
       "    }\n",
       "\n",
       "    .dataframe tbody tr th {\n",
       "        vertical-align: top;\n",
       "    }\n",
       "\n",
       "    .dataframe thead th {\n",
       "        text-align: right;\n",
       "    }\n",
       "</style>\n",
       "<table border=\"1\" class=\"dataframe\">\n",
       "  <thead>\n",
       "    <tr style=\"text-align: right;\">\n",
       "      <th></th>\n",
       "      <th>Sum</th>\n",
       "      <th>Mean</th>\n",
       "      <th>Std</th>\n",
       "      <th>Var</th>\n",
       "    </tr>\n",
       "    <tr>\n",
       "      <th>SCC</th>\n",
       "      <th></th>\n",
       "      <th></th>\n",
       "      <th></th>\n",
       "      <th></th>\n",
       "    </tr>\n",
       "  </thead>\n",
       "  <tbody>\n",
       "    <tr>\n",
       "      <th>120001</th>\n",
       "      <td>95.000000</td>\n",
       "      <td>19.000000</td>\n",
       "      <td>26.610618</td>\n",
       "      <td>708.125000</td>\n",
       "    </tr>\n",
       "    <tr>\n",
       "      <th>120008</th>\n",
       "      <td>48.780488</td>\n",
       "      <td>9.756098</td>\n",
       "      <td>12.673542</td>\n",
       "      <td>160.618679</td>\n",
       "    </tr>\n",
       "    <tr>\n",
       "      <th>120009</th>\n",
       "      <td>50.000000</td>\n",
       "      <td>10.000000</td>\n",
       "      <td>14.907120</td>\n",
       "      <td>222.222222</td>\n",
       "    </tr>\n",
       "    <tr>\n",
       "      <th>120018</th>\n",
       "      <td>92.307692</td>\n",
       "      <td>18.461538</td>\n",
       "      <td>19.749416</td>\n",
       "      <td>390.039448</td>\n",
       "    </tr>\n",
       "    <tr>\n",
       "      <th>120019</th>\n",
       "      <td>94.354839</td>\n",
       "      <td>18.870968</td>\n",
       "      <td>13.270969</td>\n",
       "      <td>176.118626</td>\n",
       "    </tr>\n",
       "  </tbody>\n",
       "</table>\n",
       "</div>"
      ],
      "text/plain": [
       "              Sum       Mean        Std         Var\n",
       "SCC                                                \n",
       "120001  95.000000  19.000000  26.610618  708.125000\n",
       "120008  48.780488   9.756098  12.673542  160.618679\n",
       "120009  50.000000  10.000000  14.907120  222.222222\n",
       "120018  92.307692  18.461538  19.749416  390.039448\n",
       "120019  94.354839  18.870968  13.270969  176.118626"
      ]
     },
     "metadata": {},
     "output_type": "display_data"
    },
    {
     "data": {
      "text/plain": [
       "(1598, 4)"
      ]
     },
     "metadata": {},
     "output_type": "display_data"
    }
   ],
   "source": [
    "df_stat2 = pd.DataFrame()\n",
    "df_stat2['Sum'] = df_rate_ext2.drop(['Total'], axis=1).sum(axis=1)\n",
    "df_stat2['Mean'] = df_rate_ext2.drop(['Total'], axis=1).mean(axis=1)\n",
    "df_stat2['Std'] = df_rate_ext2.drop(['Total'], axis=1).std(axis=1)\n",
    "df_stat2['Var'] = df_rate_ext2.drop(['Total'], axis=1).var(axis=1)\n",
    "display(df_stat2.head(5))\n",
    "display(df_stat2.shape)"
   ]
  },
  {
   "cell_type": "markdown",
   "metadata": {},
   "source": [
    "---\n",
    "## 5. 散布図等 描画"
   ]
  },
  {
   "cell_type": "code",
   "execution_count": 12,
   "metadata": {},
   "outputs": [
    {
     "data": {
      "text/plain": [
       "<matplotlib.axes._subplots.AxesSubplot at 0x1a5ae48f8d0>"
      ]
     },
     "execution_count": 12,
     "metadata": {},
     "output_type": "execute_result"
    },
    {
     "data": {
      "image/png": "[encoded data removed]",
      "text/plain": [
       "<Figure size 576x288 with 1 Axes>"
      ]
     },
     "metadata": {
      "needs_background": "light"
     },
     "output_type": "display_data"
    }
   ],
   "source": [
    "import numpy\n",
    "df_stat2.plot(kind='scatter', x='Mean', y='Var',  title = \"Scatter plot of items.\", figsize=(8, 4), fontsize=12)"
   ]
  },
  {
   "cell_type": "code",
   "execution_count": null,
   "metadata": {},
   "outputs": [],
   "source": []
  }
 ],
 "metadata": {
  "kernelspec": {
   "display_name": "Python 3",
   "language": "python",
   "name": "python3"
  },
  "language_info": {
   "codemirror_mode": {
    "name": "ipython",
    "version": 3
   },
   "file_extension": ".py",
   "mimetype": "text/x-python",
   "name": "python",
   "nbconvert_exporter": "python",
   "pygments_lexer": "ipython3",
   "version": "3.7.3"
  }
 },
 "nbformat": 4,
 "nbformat_minor": 2
}
