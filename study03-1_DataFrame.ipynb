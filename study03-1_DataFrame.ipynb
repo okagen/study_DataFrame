{
 "cells": [
  {
   "cell_type": "markdown",
   "metadata": {},
   "source": [
    "# データが保存された複数のcsvファイルを読み込み、必要な計算をして新しいcsvファイルを生成する。\n",
    "\n",
    "  - `csvファイルは年毎`に生成されており、不要なフィールドも含んでいる。\n",
    "  - csvファイルは`Regionというフィールドを含んでおり、4種類(1,2,3,4)の値`が各レコードに設定されている。\n",
    "  - レコードは4種類より多いため、`Regionというフィールドの4種類の値は重複`している。\n",
    "  - 一つのcsvファイルからはRegionごとにまとめられた4レコードが抽出される。\n",
    "  - 抽出の際は、`他のフィールドの値は平均値を計算`する。\n",
    "  - 他のフィールドに設定されている値は、`基本的に実数値`だが、たまに\"-\"を含んでおり、その値は\"0\"と読み替える。\n",
    "  - 最終的に、DataFrameにため込んだデータをcsvファイルとして出力する。"
   ]
  },
  {
   "cell_type": "markdown",
   "metadata": {},
   "source": [
    "---\n",
    "## 1. csvファイルのリスト生成"
   ]
  },
  {
   "cell_type": "code",
   "execution_count": 1,
   "metadata": {},
   "outputs": [
    {
     "data": {
      "text/plain": [
       "['.\\\\Data\\\\03_Sample\\\\JH_H19.csv',\n",
       " '.\\\\Data\\\\03_Sample\\\\JH_H20.csv',\n",
       " '.\\\\Data\\\\03_Sample\\\\JH_H21.csv',\n",
       " '.\\\\Data\\\\03_Sample\\\\JH_H22.csv',\n",
       " '.\\\\Data\\\\03_Sample\\\\JH_H24.csv',\n",
       " '.\\\\Data\\\\03_Sample\\\\JH_H25.csv',\n",
       " '.\\\\Data\\\\03_Sample\\\\JH_H26.csv',\n",
       " '.\\\\Data\\\\03_Sample\\\\JH_H27.csv',\n",
       " '.\\\\Data\\\\03_Sample\\\\JH_H28.csv',\n",
       " '.\\\\Data\\\\03_Sample\\\\JH_H29.csv',\n",
       " '.\\\\Data\\\\03_Sample\\\\JH_H31.csv']"
      ]
     },
     "metadata": {},
     "output_type": "display_data"
    }
   ],
   "source": [
    "import numpy as np\n",
    "import glob\n",
    "import pandas as pd\n",
    "csv_path_JH = '.\\\\Data\\\\03_Sample\\\\JH_*.csv'\n",
    "csvs_JH = glob.glob(csv_path_JH)\n",
    "display(csvs_JH)"
   ]
  },
  {
   "cell_type": "markdown",
   "metadata": {},
   "source": [
    "---\n",
    "## 2. csvから必要なデータを取得し、DataFameに格納"
   ]
  },
  {
   "cell_type": "markdown",
   "metadata": {},
   "source": [
    "### 2-1. csvを1ファイル読み込んで、必要なデータだけにしたDataFrameを生成する関数を作っておく。"
   ]
  },
  {
   "cell_type": "code",
   "execution_count": 2,
   "metadata": {},
   "outputs": [],
   "source": [
    "def getDF_CAR(csv):\n",
    "    #ファイルを読み込み。\n",
    "    df_org = pd.read_csv(csv, encoding='Shift_JISx0213', low_memory=False)\n",
    "    \n",
    "    #1行目には不要なデータが入っているので削除する。\n",
    "    df = df_org.drop([0,0])\n",
    "    \n",
    "    #Yearフィールドの一番上から年度を取得\n",
    "    year = df.iloc[1]['Year']\n",
    "\n",
    "    # データは基本的に実数だが、たまに\"-\"があるので削除。\n",
    "    # 全体をfloatにしておく。\n",
    "    df = df.replace('-', 0)\n",
    "    df = df.astype(float)\n",
    "    \n",
    "    # 'Region'フィールドは4種類(1,2,3,4)あり、複数行存在する。\n",
    "    # 4種類にまとめ、他のフィールドの数値は平均化する。\n",
    "    # この処理でRegionフィールドがindexになる。\n",
    "    df = df.groupby('Region').mean()\n",
    "    \n",
    "    # 必要なデータのみにする。\n",
    "    # JH_H31.csvというファイルのデータはヘッダ名が違っているので特殊な処理が必要。\n",
    "    if csv.find('JH_H31.csv') > 0:\n",
    "        df = df[['Year','CAR_Jpn', 'CAR_Math']]\n",
    "        headers = {'CAR_Jpn':'Koku', 'CAR_Math':'Su'}    \n",
    "    else:\n",
    "        df = df[['Year','CAR_JpnA', 'CAR_MathA']]\n",
    "        headers = {'CAR_JpnA':'Koku', 'CAR_MathA':'Su'}\n",
    "\n",
    "    # ヘッダ名を統一するために変更。\n",
    "    df = df.rename(columns=headers)\n",
    "    \n",
    "    # indexを振りなおし、Regionをフィールドに戻す。\n",
    "    df = df.reset_index()\n",
    "    \n",
    "    # Year、Regionが実数値になっているので、整数に変換。\n",
    "    df['Year'] = df['Year'].astype(int)\n",
    "    df['Region'] = df['Region'].astype(int)\n",
    "\n",
    "    return df   "
   ]
  },
  {
   "cell_type": "markdown",
   "metadata": {},
   "source": [
    "### 2-2. csvを一つずつ読み込み、必要データをDataFrameに格納する。"
   ]
  },
  {
   "cell_type": "code",
   "execution_count": 3,
   "metadata": {},
   "outputs": [
    {
     "name": "stdout",
     "output_type": "stream",
     "text": [
      "processing : .\\Data\\03_Sample\\JH_H19.csv\n",
      "processing : .\\Data\\03_Sample\\JH_H20.csv\n",
      "processing : .\\Data\\03_Sample\\JH_H21.csv\n",
      "processing : .\\Data\\03_Sample\\JH_H22.csv\n",
      "processing : .\\Data\\03_Sample\\JH_H24.csv\n",
      "processing : .\\Data\\03_Sample\\JH_H25.csv\n",
      "processing : .\\Data\\03_Sample\\JH_H26.csv\n",
      "processing : .\\Data\\03_Sample\\JH_H27.csv\n",
      "processing : .\\Data\\03_Sample\\JH_H28.csv\n",
      "processing : .\\Data\\03_Sample\\JH_H29.csv\n",
      "processing : .\\Data\\03_Sample\\JH_H31.csv\n"
     ]
    }
   ],
   "source": [
    "# 入れ物を作っておく。\n",
    "df = pd.DataFrame()\n",
    "\n",
    "# CSVからデータを読み込み、入れ物に入れる。\n",
    "for csv in csvs_JH:\n",
    "    print('processing : '+ csv)\n",
    "    df_CAR = getDF_CAR(csv)\n",
    "    df = pd.concat([df, df_CAR], sort=False)"
   ]
  },
  {
   "cell_type": "markdown",
   "metadata": {},
   "source": [
    "---\n",
    "## 3. DataFrameをcsvに出力する。"
   ]
  },
  {
   "cell_type": "code",
   "execution_count": 4,
   "metadata": {},
   "outputs": [],
   "source": [
    "df.to_csv('.\\\\Data\\\\STD\\\\JH_result.csv', index=False)"
   ]
  }
 ],
 "metadata": {
  "kernelspec": {
   "display_name": "Python 3",
   "language": "python",
   "name": "python3"
  },
  "language_info": {
   "codemirror_mode": {
    "name": "ipython",
    "version": 3
   },
   "file_extension": ".py",
   "mimetype": "text/x-python",
   "name": "python",
   "nbconvert_exporter": "python",
   "pygments_lexer": "ipython3",
   "version": "3.7.3"
  }
 },
 "nbformat": 4,
 "nbformat_minor": 2
}
