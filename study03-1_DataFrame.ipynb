{
 "cells": [
  {
   "cell_type": "markdown",
   "metadata": {},
   "source": [
    "# データが保存された複数のcsvファイルを読み込み、必要な計算をして新しいcsvファイルを生成する。\n",
    "\n",
    "  - ***csvファイルは年毎***に生成されており、不要なフィールドも含んでいる。\n",
    "  - csvファイルは***Regionというフィールドを含んでおり、4種類(1,2,3,4)の値***が各レコードに設定されている。\n",
    "  - レコードは4種類より多いため、***Regionというフィールドの4種類の値は重複***している。\n",
    "  - 一つのcsvファイルからはRegionごとにまとめられた4レコードが抽出される。\n",
    "  - 抽出の際は、***他のフィールドの値は平均値を計算***する。\n",
    "  - 他のフィールドに設定されている値は、***基本的に実数値***だが、たまに\"-\"を含んでおり、その値は\"0\"と読み替える。\n",
    "  - 最終的に、DataFrameにため込んだデータをcsvファイルとして出力する。"
   ]
  },
  {
   "cell_type": "markdown",
   "metadata": {},
   "source": [
    "---\n",
    "## 1. csvファイルのリスト生成"
   ]
  },
  {
   "cell_type": "code",
   "execution_count": 1,
   "metadata": {},
   "outputs": [
    {
     "data": {
      "text/plain": [
       "['.\\\\Data\\\\03_Sample\\\\JH_H27.csv',\n",
       " '.\\\\Data\\\\03_Sample\\\\JH_H28.csv',\n",
       " '.\\\\Data\\\\03_Sample\\\\JH_H29.csv',\n",
       " '.\\\\Data\\\\03_Sample\\\\JH_H30.csv',\n",
       " '.\\\\Data\\\\03_Sample\\\\JH_H31.csv']"
      ]
     },
     "metadata": {},
     "output_type": "display_data"
    }
   ],
   "source": [
    "import numpy as np\n",
    "import glob\n",
    "import pandas as pd\n",
    "csv_path_JH = '.\\\\Data\\\\03_Sample\\\\JH_*.csv'\n",
    "csvs_JH = glob.glob(csv_path_JH)\n",
    "display(csvs_JH)"
   ]
  },
  {
   "cell_type": "markdown",
   "metadata": {},
   "source": [
    "---\n",
    "## 2. csvから必要なデータを取得し、DataFameに格納\n",
    "  - Dataフォルダ内の"
   ]
  },
  {
   "cell_type": "markdown",
   "metadata": {},
   "source": [
    "### 2-1. csvを1ファイル読み込んで、必要なデータだけにしたDataFrameを生成する関数を作っておく。"
   ]
  },
  {
   "cell_type": "code",
   "execution_count": 2,
   "metadata": {},
   "outputs": [],
   "source": [
    "def getDF_CAR(csv):\n",
    "    #ファイルを読み込み。\n",
    "    df_org = pd.read_csv(csv, encoding='Shift_JISx0213', low_memory=False)\n",
    "    \n",
    "    #1行目には不要なデータが入っているので削除する。\n",
    "    df = df_org.drop([0,0])\n",
    "    \n",
    "    #Yearフィールドの一番上から年度を取得\n",
    "    year = df.iloc[1]['Year']\n",
    "\n",
    "    # データは基本的に実数だが、たまに\"-\"があるので削除。\n",
    "    # 全体をfloatにしておく。\n",
    "    df = df.replace('-', 0)\n",
    "    df = df.astype(float)\n",
    "    \n",
    "    # 'Region'フィールドは4種類(1,2,3,4)あり、複数行存在する。\n",
    "    # 4種類にまとめ、他のフィールドの数値は平均化する。\n",
    "    # この処理でRegionフィールドがindexになる。\n",
    "    df = df.groupby('Region').mean()\n",
    "    \n",
    "    # 必要なデータのみにする。\n",
    "    # JH_H31.csvというファイルのデータはヘッダ名が違っているので特殊な処理が必要。\n",
    "    if csv.find('JH_H31.csv') > 0:\n",
    "        df = df[['Year','CAR_Jpn', 'CAR_Math']]\n",
    "        headers = {'CAR_Jpn':'Koku', 'CAR_Math':'Su'}    \n",
    "    else:\n",
    "        df = df[['Year','CAR_JpnA', 'CAR_MathA']]\n",
    "        headers = {'CAR_JpnA':'Koku', 'CAR_MathA':'Su'}\n",
    "\n",
    "    # ヘッダ名を統一するために変更。\n",
    "    df = df.rename(columns=headers)\n",
    "    \n",
    "    # indexを振りなおし、Regionをフィールドに戻す。\n",
    "    df = df.reset_index()\n",
    "    \n",
    "    # Year、Regionが実数値になっているので、整数に変換。\n",
    "    df['Year'] = df['Year'].astype(int)\n",
    "    df['Region'] = df['Region'].astype(int)\n",
    "\n",
    "    return df   "
   ]
  },
  {
   "cell_type": "markdown",
   "metadata": {},
   "source": [
    "### 2-2. csvを一つずつ読み込み、必要データをDataFrameに格納する。"
   ]
  },
  {
   "cell_type": "code",
   "execution_count": 5,
   "metadata": {},
   "outputs": [
    {
     "name": "stdout",
     "output_type": "stream",
     "text": [
      "processing : .\\Data\\03_Sample\\JH_H27.csv\n",
      "processing : .\\Data\\03_Sample\\JH_H28.csv\n",
      "processing : .\\Data\\03_Sample\\JH_H29.csv\n",
      "processing : .\\Data\\03_Sample\\JH_H30.csv\n",
      "processing : .\\Data\\03_Sample\\JH_H31.csv\n"
     ]
    },
    {
     "data": {
      "text/html": [
       "<div>\n",
       "<style scoped>\n",
       "    .dataframe tbody tr th:only-of-type {\n",
       "        vertical-align: middle;\n",
       "    }\n",
       "\n",
       "    .dataframe tbody tr th {\n",
       "        vertical-align: top;\n",
       "    }\n",
       "\n",
       "    .dataframe thead th {\n",
       "        text-align: right;\n",
       "    }\n",
       "</style>\n",
       "<table border=\"1\" class=\"dataframe\">\n",
       "  <thead>\n",
       "    <tr style=\"text-align: right;\">\n",
       "      <th></th>\n",
       "      <th>Region</th>\n",
       "      <th>Year</th>\n",
       "      <th>Koku</th>\n",
       "      <th>Su</th>\n",
       "    </tr>\n",
       "  </thead>\n",
       "  <tbody>\n",
       "    <tr>\n",
       "      <th>0</th>\n",
       "      <td>1</td>\n",
       "      <td>2015</td>\n",
       "      <td>44.274370</td>\n",
       "      <td>42.969431</td>\n",
       "    </tr>\n",
       "    <tr>\n",
       "      <th>1</th>\n",
       "      <td>2</td>\n",
       "      <td>2015</td>\n",
       "      <td>45.618216</td>\n",
       "      <td>51.053328</td>\n",
       "    </tr>\n",
       "    <tr>\n",
       "      <th>2</th>\n",
       "      <td>3</td>\n",
       "      <td>2015</td>\n",
       "      <td>50.199653</td>\n",
       "      <td>47.755236</td>\n",
       "    </tr>\n",
       "    <tr>\n",
       "      <th>3</th>\n",
       "      <td>4</td>\n",
       "      <td>2015</td>\n",
       "      <td>45.344529</td>\n",
       "      <td>59.022431</td>\n",
       "    </tr>\n",
       "    <tr>\n",
       "      <th>0</th>\n",
       "      <td>1</td>\n",
       "      <td>2016</td>\n",
       "      <td>42.816303</td>\n",
       "      <td>53.701978</td>\n",
       "    </tr>\n",
       "  </tbody>\n",
       "</table>\n",
       "</div>"
      ],
      "text/plain": [
       "   Region  Year       Koku         Su\n",
       "0       1  2015  44.274370  42.969431\n",
       "1       2  2015  45.618216  51.053328\n",
       "2       3  2015  50.199653  47.755236\n",
       "3       4  2015  45.344529  59.022431\n",
       "0       1  2016  42.816303  53.701978"
      ]
     },
     "metadata": {},
     "output_type": "display_data"
    },
    {
     "data": {
      "text/html": [
       "<div>\n",
       "<style scoped>\n",
       "    .dataframe tbody tr th:only-of-type {\n",
       "        vertical-align: middle;\n",
       "    }\n",
       "\n",
       "    .dataframe tbody tr th {\n",
       "        vertical-align: top;\n",
       "    }\n",
       "\n",
       "    .dataframe thead th {\n",
       "        text-align: right;\n",
       "    }\n",
       "</style>\n",
       "<table border=\"1\" class=\"dataframe\">\n",
       "  <thead>\n",
       "    <tr style=\"text-align: right;\">\n",
       "      <th></th>\n",
       "      <th>Region</th>\n",
       "      <th>Year</th>\n",
       "      <th>Koku</th>\n",
       "      <th>Su</th>\n",
       "    </tr>\n",
       "  </thead>\n",
       "  <tbody>\n",
       "    <tr>\n",
       "      <th>3</th>\n",
       "      <td>4</td>\n",
       "      <td>2018</td>\n",
       "      <td>38.996858</td>\n",
       "      <td>48.039549</td>\n",
       "    </tr>\n",
       "    <tr>\n",
       "      <th>0</th>\n",
       "      <td>1</td>\n",
       "      <td>2019</td>\n",
       "      <td>54.152150</td>\n",
       "      <td>42.745296</td>\n",
       "    </tr>\n",
       "    <tr>\n",
       "      <th>1</th>\n",
       "      <td>2</td>\n",
       "      <td>2019</td>\n",
       "      <td>51.654446</td>\n",
       "      <td>58.677429</td>\n",
       "    </tr>\n",
       "    <tr>\n",
       "      <th>2</th>\n",
       "      <td>3</td>\n",
       "      <td>2019</td>\n",
       "      <td>49.875922</td>\n",
       "      <td>54.392963</td>\n",
       "    </tr>\n",
       "    <tr>\n",
       "      <th>3</th>\n",
       "      <td>4</td>\n",
       "      <td>2019</td>\n",
       "      <td>49.609545</td>\n",
       "      <td>38.084889</td>\n",
       "    </tr>\n",
       "  </tbody>\n",
       "</table>\n",
       "</div>"
      ],
      "text/plain": [
       "   Region  Year       Koku         Su\n",
       "3       4  2018  38.996858  48.039549\n",
       "0       1  2019  54.152150  42.745296\n",
       "1       2  2019  51.654446  58.677429\n",
       "2       3  2019  49.875922  54.392963\n",
       "3       4  2019  49.609545  38.084889"
      ]
     },
     "metadata": {},
     "output_type": "display_data"
    }
   ],
   "source": [
    "# 入れ物を作っておく。\n",
    "df = pd.DataFrame()\n",
    "\n",
    "# CSVからデータを読み込み、入れ物に入れる。\n",
    "for csv in csvs_JH:\n",
    "    print('processing : '+ csv)\n",
    "    df_CAR = getDF_CAR(csv)\n",
    "    df = pd.concat([df, df_CAR], sort=False)\n",
    "\n",
    "display(df.head(5))\n",
    "display(df.tail(5))"
   ]
  },
  {
   "cell_type": "markdown",
   "metadata": {},
   "source": [
    "---\n",
    "## 3. DataFrameをcsvに出力する。"
   ]
  },
  {
   "cell_type": "code",
   "execution_count": 6,
   "metadata": {},
   "outputs": [],
   "source": [
    "df.to_csv('.\\\\Data\\\\03_Sample\\\\JH.csv', index=False)"
   ]
  }
 ],
 "metadata": {
  "kernelspec": {
   "display_name": "Python 3",
   "language": "python",
   "name": "python3"
  },
  "language_info": {
   "codemirror_mode": {
    "name": "ipython",
    "version": 3
   },
   "file_extension": ".py",
   "mimetype": "text/x-python",
   "name": "python",
   "nbconvert_exporter": "python",
   "pygments_lexer": "ipython3",
   "version": "3.7.3"
  }
 },
 "nbformat": 4,
 "nbformat_minor": 2
}
