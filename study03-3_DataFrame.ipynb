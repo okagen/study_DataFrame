{
 "cells": [
  {
   "cell_type": "markdown",
   "metadata": {},
   "source": [
    "# study03-1で生成したcsvファイルを読み込み、グラフ化する。\n",
    "  - csvファイルをDataFrameに読みこむ。\n",
    "  - DataFrame内にはYear、Regionフィールドがあり値が重複している。***groupbyでMultiIndex DataFrame***を作り処理をする。その際、他のフィールドは平均値としておく。\n",
    "  - 先に作った***MultiIndex DataFrameのlevelを指定して部分的にDataFrameを取得してイテレーション***し、処理をする。\n",
    "  - ***matplotlib.pyplot***を用いてグラフ化。***折れ線グラフ***を生成する。"
   ]
  },
  {
   "cell_type": "markdown",
   "metadata": {},
   "source": [
    "---\n",
    "## 1.  csvファイルを読み込む"
   ]
  },
  {
   "cell_type": "code",
   "execution_count": 1,
   "metadata": {},
   "outputs": [],
   "source": [
    "import numpy as np\n",
    "import glob\n",
    "import pandas as pd\n",
    "csv_JH = '.\\\\Data\\\\03_Sample\\\\JH.csv'"
   ]
  },
  {
   "cell_type": "code",
   "execution_count": 2,
   "metadata": {},
   "outputs": [
    {
     "data": {
      "text/html": [
       "<div>\n",
       "<style scoped>\n",
       "    .dataframe tbody tr th:only-of-type {\n",
       "        vertical-align: middle;\n",
       "    }\n",
       "\n",
       "    .dataframe tbody tr th {\n",
       "        vertical-align: top;\n",
       "    }\n",
       "\n",
       "    .dataframe thead th {\n",
       "        text-align: right;\n",
       "    }\n",
       "</style>\n",
       "<table border=\"1\" class=\"dataframe\">\n",
       "  <thead>\n",
       "    <tr style=\"text-align: right;\">\n",
       "      <th></th>\n",
       "      <th>Region</th>\n",
       "      <th>Year</th>\n",
       "      <th>Koku</th>\n",
       "      <th>Su</th>\n",
       "    </tr>\n",
       "  </thead>\n",
       "  <tbody>\n",
       "    <tr>\n",
       "      <th>0</th>\n",
       "      <td>1</td>\n",
       "      <td>2015</td>\n",
       "      <td>44.274370</td>\n",
       "      <td>42.969431</td>\n",
       "    </tr>\n",
       "    <tr>\n",
       "      <th>1</th>\n",
       "      <td>2</td>\n",
       "      <td>2015</td>\n",
       "      <td>45.618216</td>\n",
       "      <td>51.053328</td>\n",
       "    </tr>\n",
       "    <tr>\n",
       "      <th>2</th>\n",
       "      <td>3</td>\n",
       "      <td>2015</td>\n",
       "      <td>50.199653</td>\n",
       "      <td>47.755236</td>\n",
       "    </tr>\n",
       "    <tr>\n",
       "      <th>3</th>\n",
       "      <td>4</td>\n",
       "      <td>2015</td>\n",
       "      <td>45.344529</td>\n",
       "      <td>59.022431</td>\n",
       "    </tr>\n",
       "    <tr>\n",
       "      <th>4</th>\n",
       "      <td>1</td>\n",
       "      <td>2016</td>\n",
       "      <td>42.816303</td>\n",
       "      <td>53.701978</td>\n",
       "    </tr>\n",
       "  </tbody>\n",
       "</table>\n",
       "</div>"
      ],
      "text/plain": [
       "   Region  Year       Koku         Su\n",
       "0       1  2015  44.274370  42.969431\n",
       "1       2  2015  45.618216  51.053328\n",
       "2       3  2015  50.199653  47.755236\n",
       "3       4  2015  45.344529  59.022431\n",
       "4       1  2016  42.816303  53.701978"
      ]
     },
     "metadata": {},
     "output_type": "display_data"
    }
   ],
   "source": [
    "df_JH = pd.read_csv(csv_JH, encoding='Shift_JISx0213')\n",
    "display(df_JH.head(5))"
   ]
  },
  {
   "cell_type": "markdown",
   "metadata": {},
   "source": [
    "---\n",
    "## 2. Year、Region毎にグルーピングし、グループごとにイテレーションをする。\n",
    "### 2-1.  MultiIndex DataFrameを生成\n",
    "  - Yearは2007～2019がある。途中抜けた年がある。\n",
    "  - Regionは4種類(1,2,3,4)\n",
    "  - 2種類以上のフィールドでgroupbyをした場合に出来があるDataFrameをMultiIndex DataFrameというようで、引数に渡した順番で左からlevel=0、level=1とindexにレベル付けが行われる。\n",
    "  - 以下の場合、Yearはlevel=0、Regionはlevel=1となる。"
   ]
  },
  {
   "cell_type": "code",
   "execution_count": 3,
   "metadata": {},
   "outputs": [
    {
     "data": {
      "text/html": [
       "<div>\n",
       "<style scoped>\n",
       "    .dataframe tbody tr th:only-of-type {\n",
       "        vertical-align: middle;\n",
       "    }\n",
       "\n",
       "    .dataframe tbody tr th {\n",
       "        vertical-align: top;\n",
       "    }\n",
       "\n",
       "    .dataframe thead th {\n",
       "        text-align: right;\n",
       "    }\n",
       "</style>\n",
       "<table border=\"1\" class=\"dataframe\">\n",
       "  <thead>\n",
       "    <tr style=\"text-align: right;\">\n",
       "      <th></th>\n",
       "      <th></th>\n",
       "      <th>Koku</th>\n",
       "      <th>Su</th>\n",
       "    </tr>\n",
       "    <tr>\n",
       "      <th>Year</th>\n",
       "      <th>Region</th>\n",
       "      <th></th>\n",
       "      <th></th>\n",
       "    </tr>\n",
       "  </thead>\n",
       "  <tbody>\n",
       "    <tr>\n",
       "      <th rowspan=\"4\" valign=\"top\">2015</th>\n",
       "      <th>1</th>\n",
       "      <td>44.274370</td>\n",
       "      <td>42.969431</td>\n",
       "    </tr>\n",
       "    <tr>\n",
       "      <th>2</th>\n",
       "      <td>45.618216</td>\n",
       "      <td>51.053328</td>\n",
       "    </tr>\n",
       "    <tr>\n",
       "      <th>3</th>\n",
       "      <td>50.199653</td>\n",
       "      <td>47.755236</td>\n",
       "    </tr>\n",
       "    <tr>\n",
       "      <th>4</th>\n",
       "      <td>45.344529</td>\n",
       "      <td>59.022431</td>\n",
       "    </tr>\n",
       "    <tr>\n",
       "      <th>2016</th>\n",
       "      <th>1</th>\n",
       "      <td>42.816303</td>\n",
       "      <td>53.701978</td>\n",
       "    </tr>\n",
       "  </tbody>\n",
       "</table>\n",
       "</div>"
      ],
      "text/plain": [
       "                  Koku         Su\n",
       "Year Region                      \n",
       "2015 1       44.274370  42.969431\n",
       "     2       45.618216  51.053328\n",
       "     3       50.199653  47.755236\n",
       "     4       45.344529  59.022431\n",
       "2016 1       42.816303  53.701978"
      ]
     },
     "metadata": {},
     "output_type": "display_data"
    }
   ],
   "source": [
    "df_JH_grp = df_JH.groupby(['Year','Region']).mean()\n",
    "display(df_JH_grp.head(5))"
   ]
  },
  {
   "cell_type": "markdown",
   "metadata": {},
   "source": [
    "## 2-2. MultiIndex DataFrameをグループごとにイテレーションしてみる。\n",
    "  - level=0、Yearでイテレーション。idxにはYearの値が入り、df_selectには、Year毎のDataFrameの塊が入る。\n",
    "  - level=1でイテレーションした場合、idxにはRegionの値が入り、df_selectにはRegion毎のDataFrameの塊が入る。"
   ]
  },
  {
   "cell_type": "code",
   "execution_count": 4,
   "metadata": {},
   "outputs": [
    {
     "name": "stdout",
     "output_type": "stream",
     "text": [
      "------------\n"
     ]
    },
    {
     "data": {
      "text/plain": [
       "2015"
      ]
     },
     "metadata": {},
     "output_type": "display_data"
    },
    {
     "data": {
      "text/html": [
       "<div>\n",
       "<style scoped>\n",
       "    .dataframe tbody tr th:only-of-type {\n",
       "        vertical-align: middle;\n",
       "    }\n",
       "\n",
       "    .dataframe tbody tr th {\n",
       "        vertical-align: top;\n",
       "    }\n",
       "\n",
       "    .dataframe thead th {\n",
       "        text-align: right;\n",
       "    }\n",
       "</style>\n",
       "<table border=\"1\" class=\"dataframe\">\n",
       "  <thead>\n",
       "    <tr style=\"text-align: right;\">\n",
       "      <th></th>\n",
       "      <th></th>\n",
       "      <th>Koku</th>\n",
       "      <th>Su</th>\n",
       "    </tr>\n",
       "    <tr>\n",
       "      <th>Year</th>\n",
       "      <th>Region</th>\n",
       "      <th></th>\n",
       "      <th></th>\n",
       "    </tr>\n",
       "  </thead>\n",
       "  <tbody>\n",
       "    <tr>\n",
       "      <th rowspan=\"4\" valign=\"top\">2015</th>\n",
       "      <th>1</th>\n",
       "      <td>44.274370</td>\n",
       "      <td>42.969431</td>\n",
       "    </tr>\n",
       "    <tr>\n",
       "      <th>2</th>\n",
       "      <td>45.618216</td>\n",
       "      <td>51.053328</td>\n",
       "    </tr>\n",
       "    <tr>\n",
       "      <th>3</th>\n",
       "      <td>50.199653</td>\n",
       "      <td>47.755236</td>\n",
       "    </tr>\n",
       "    <tr>\n",
       "      <th>4</th>\n",
       "      <td>45.344529</td>\n",
       "      <td>59.022431</td>\n",
       "    </tr>\n",
       "  </tbody>\n",
       "</table>\n",
       "</div>"
      ],
      "text/plain": [
       "                  Koku         Su\n",
       "Year Region                      \n",
       "2015 1       44.274370  42.969431\n",
       "     2       45.618216  51.053328\n",
       "     3       50.199653  47.755236\n",
       "     4       45.344529  59.022431"
      ]
     },
     "metadata": {},
     "output_type": "display_data"
    },
    {
     "name": "stdout",
     "output_type": "stream",
     "text": [
      "------------\n"
     ]
    },
    {
     "data": {
      "text/plain": [
       "2016"
      ]
     },
     "metadata": {},
     "output_type": "display_data"
    },
    {
     "data": {
      "text/html": [
       "<div>\n",
       "<style scoped>\n",
       "    .dataframe tbody tr th:only-of-type {\n",
       "        vertical-align: middle;\n",
       "    }\n",
       "\n",
       "    .dataframe tbody tr th {\n",
       "        vertical-align: top;\n",
       "    }\n",
       "\n",
       "    .dataframe thead th {\n",
       "        text-align: right;\n",
       "    }\n",
       "</style>\n",
       "<table border=\"1\" class=\"dataframe\">\n",
       "  <thead>\n",
       "    <tr style=\"text-align: right;\">\n",
       "      <th></th>\n",
       "      <th></th>\n",
       "      <th>Koku</th>\n",
       "      <th>Su</th>\n",
       "    </tr>\n",
       "    <tr>\n",
       "      <th>Year</th>\n",
       "      <th>Region</th>\n",
       "      <th></th>\n",
       "      <th></th>\n",
       "    </tr>\n",
       "  </thead>\n",
       "  <tbody>\n",
       "    <tr>\n",
       "      <th rowspan=\"4\" valign=\"top\">2016</th>\n",
       "      <th>1</th>\n",
       "      <td>42.816303</td>\n",
       "      <td>53.701978</td>\n",
       "    </tr>\n",
       "    <tr>\n",
       "      <th>2</th>\n",
       "      <td>55.219018</td>\n",
       "      <td>47.927848</td>\n",
       "    </tr>\n",
       "    <tr>\n",
       "      <th>3</th>\n",
       "      <td>54.762744</td>\n",
       "      <td>45.458258</td>\n",
       "    </tr>\n",
       "    <tr>\n",
       "      <th>4</th>\n",
       "      <td>46.966860</td>\n",
       "      <td>48.452898</td>\n",
       "    </tr>\n",
       "  </tbody>\n",
       "</table>\n",
       "</div>"
      ],
      "text/plain": [
       "                  Koku         Su\n",
       "Year Region                      \n",
       "2016 1       42.816303  53.701978\n",
       "     2       55.219018  47.927848\n",
       "     3       54.762744  45.458258\n",
       "     4       46.966860  48.452898"
      ]
     },
     "metadata": {},
     "output_type": "display_data"
    }
   ],
   "source": [
    "for idx, df_select in df_JH_grp.groupby(level=[0]):\n",
    "    print('------------')\n",
    "    display(idx)\n",
    "    display(df_select)\n",
    "    if idx == 2016:\n",
    "        break"
   ]
  },
  {
   "cell_type": "markdown",
   "metadata": {},
   "source": [
    "## 2-3. イテレーション結果をグラフ化"
   ]
  },
  {
   "cell_type": "code",
   "execution_count": 8,
   "metadata": {
    "scrolled": false
   },
   "outputs": [
    {
     "data": {
      "image/png": "[encoded data removed]",
      "text/plain": [
       "<Figure size 432x216 with 1 Axes>"
      ]
     },
     "metadata": {
      "needs_background": "light"
     },
     "output_type": "display_data"
    },
    {
     "data": {
      "image/png": "[encoded data removed]",
      "text/plain": [
       "<Figure size 432x216 with 1 Axes>"
      ]
     },
     "metadata": {
      "needs_background": "light"
     },
     "output_type": "display_data"
    }
   ],
   "source": [
    "import matplotlib.pyplot as plot\n",
    "\n",
    "for idx, df_select in df_JH_grp.groupby(level=[0]):\n",
    "    # X軸にRegionの値をとりたいので、index（level=0、Year）を解き、Regionをindexに設定する。\n",
    "    tmp = df_select.reset_index()\n",
    "    tmp = tmp.set_index('Region')\n",
    "    \n",
    "    # Yearフィールドは不要なので削除\n",
    "    tmp = tmp.drop('Year', axis=1)\n",
    "    \n",
    "    params = {\n",
    "        'axes.titlesize': 15,\n",
    "        'axes.labelsize': -1,\n",
    "        'legend.fontsize': 20,\n",
    "        'figure.figsize': (6, 3),\n",
    "        'lines.linewidth' : 5.0,\n",
    "        'lines.markersize' : 12,\n",
    "        'lines.marker':'o',\n",
    "        'xtick.labelsize' : 15,\n",
    "        'ytick.labelsize' : 15\n",
    "    }\n",
    "    plot.rcParams.update(params)\n",
    "   \n",
    "    tmp.plot(kind='line', stacked=False,  title = \"< \"+ str(idx) + \" >\", \\\n",
    "             markevery = 1 )\n",
    "    \n",
    "    if idx == 2016:\n",
    "        break"
   ]
  },
  {
   "cell_type": "markdown",
   "metadata": {},
   "source": [
    "---\n",
    "## 3. Year、Region毎にグルーピングし、グループごとにイテレーションして処理をする。"
   ]
  },
  {
   "cell_type": "markdown",
   "metadata": {},
   "source": [
    "## 3-1. Year毎にDataFrameを取り出し、Koku、SuそれぞれRegion=1の値を用いて標準化する。"
   ]
  },
  {
   "cell_type": "code",
   "execution_count": 9,
   "metadata": {},
   "outputs": [
    {
     "data": {
      "text/html": [
       "<div>\n",
       "<style scoped>\n",
       "    .dataframe tbody tr th:only-of-type {\n",
       "        vertical-align: middle;\n",
       "    }\n",
       "\n",
       "    .dataframe tbody tr th {\n",
       "        vertical-align: top;\n",
       "    }\n",
       "\n",
       "    .dataframe thead th {\n",
       "        text-align: right;\n",
       "    }\n",
       "</style>\n",
       "<table border=\"1\" class=\"dataframe\">\n",
       "  <thead>\n",
       "    <tr style=\"text-align: right;\">\n",
       "      <th></th>\n",
       "      <th></th>\n",
       "      <th>Koku</th>\n",
       "      <th>Su</th>\n",
       "    </tr>\n",
       "    <tr>\n",
       "      <th>Year</th>\n",
       "      <th>Region</th>\n",
       "      <th></th>\n",
       "      <th></th>\n",
       "    </tr>\n",
       "  </thead>\n",
       "  <tbody>\n",
       "    <tr>\n",
       "      <th rowspan=\"4\" valign=\"top\">2015</th>\n",
       "      <th>1</th>\n",
       "      <td>1.000000</td>\n",
       "      <td>1.000000</td>\n",
       "    </tr>\n",
       "    <tr>\n",
       "      <th>2</th>\n",
       "      <td>1.030353</td>\n",
       "      <td>1.188131</td>\n",
       "    </tr>\n",
       "    <tr>\n",
       "      <th>3</th>\n",
       "      <td>1.133831</td>\n",
       "      <td>1.111377</td>\n",
       "    </tr>\n",
       "    <tr>\n",
       "      <th>4</th>\n",
       "      <td>1.024171</td>\n",
       "      <td>1.373591</td>\n",
       "    </tr>\n",
       "    <tr>\n",
       "      <th>2016</th>\n",
       "      <th>1</th>\n",
       "      <td>1.000000</td>\n",
       "      <td>1.000000</td>\n",
       "    </tr>\n",
       "  </tbody>\n",
       "</table>\n",
       "</div>"
      ],
      "text/plain": [
       "                 Koku        Su\n",
       "Year Region                    \n",
       "2015 1       1.000000  1.000000\n",
       "     2       1.030353  1.188131\n",
       "     3       1.133831  1.111377\n",
       "     4       1.024171  1.373591\n",
       "2016 1       1.000000  1.000000"
      ]
     },
     "metadata": {},
     "output_type": "display_data"
    }
   ],
   "source": [
    "df_JH_norm = pd.DataFrame()\n",
    "\n",
    "for idx, df_select in df_JH_grp.groupby(level=[0]):\n",
    "    # これが無いとうまくいかない\n",
    "    df_select = df_select.copy()\n",
    "\n",
    "    # Retion=1の値を取得\n",
    "    # k = df_select['Koku'][0]\n",
    "    # s = df_select['Su'][0]\n",
    "\n",
    "    # Retion=1の値を取得 2\n",
    "    # 上記の方法でも取れるが、indexを指定して取得すると以下になる。\n",
    "    # ただし、そのままでは使えないため、処理が必要。\n",
    "    k_tmp = df_select.loc[(idx,1), ['Koku']]\n",
    "    s_tmp = df_select.loc[(idx,1), ['Su']]\n",
    "    # display(k_tmp)\n",
    "    # display(k_tmp.Koku)\n",
    "    k = k_tmp.Koku\n",
    "    s = s_tmp.Su\n",
    "\n",
    "    # 標準化\n",
    "    df_select['Koku'] = df_select['Koku'] / k\n",
    "    df_select['Su'] = df_select['Su'] / s\n",
    "\n",
    "    # 処理結果を保持\n",
    "    df_JH_norm = df_JH_norm.append(df_select)\n",
    "    \n",
    "display(df_JH_norm.head(5))"
   ]
  },
  {
   "cell_type": "markdown",
   "metadata": {},
   "source": [
    "## 3-2. 処理結果をグラフ化"
   ]
  },
  {
   "cell_type": "code",
   "execution_count": 10,
   "metadata": {},
   "outputs": [
    {
     "data": {
      "image/png": "[encoded data removed]",
      "text/plain": [
       "<Figure size 432x216 with 1 Axes>"
      ]
     },
     "metadata": {
      "needs_background": "light"
     },
     "output_type": "display_data"
    },
    {
     "data": {
      "image/png": "[encoded data removed]",
      "text/plain": [
       "<Figure size 432x216 with 1 Axes>"
      ]
     },
     "metadata": {
      "needs_background": "light"
     },
     "output_type": "display_data"
    }
   ],
   "source": [
    "import matplotlib.pyplot as plot\n",
    "\n",
    "for idx, df_select in df_JH_norm.groupby(level=[0]):\n",
    "    # X軸にRegionの値をとりたいので、index（level=0、Year）を解き、Regionをindexに設定する。\n",
    "    tmp = df_select.reset_index()\n",
    "    tmp = tmp.set_index('Region')\n",
    "    \n",
    "    # Yearフィールドは不要なので削除\n",
    "    tmp = tmp.drop('Year', axis=1)\n",
    "    \n",
    "    params = {\n",
    "        'axes.titlesize': 15,\n",
    "        'axes.labelsize': -1,\n",
    "        'legend.fontsize': 20,\n",
    "        'figure.figsize': (6, 3),\n",
    "        'lines.linewidth' : 5.0,\n",
    "        'lines.markersize' : 12,\n",
    "        'lines.marker':'o',\n",
    "        'xtick.labelsize' : 15,\n",
    "        'ytick.labelsize' : 15\n",
    "    }\n",
    "    plot.rcParams.update(params)\n",
    "   \n",
    "    tmp.plot(kind='line', stacked=False,  title = \"< \"+ str(idx) + \" >\", \\\n",
    "             markevery = 1 )\n",
    "    \n",
    "    if idx == 2016:\n",
    "        break"
   ]
  }
 ],
 "metadata": {
  "kernelspec": {
   "display_name": "Python 3",
   "language": "python",
   "name": "python3"
  },
  "language_info": {
   "codemirror_mode": {
    "name": "ipython",
    "version": 3
   },
   "file_extension": ".py",
   "mimetype": "text/x-python",
   "name": "python",
   "nbconvert_exporter": "python",
   "pygments_lexer": "ipython3",
   "version": "3.7.3"
  }
 },
 "nbformat": 4,
 "nbformat_minor": 2
}
