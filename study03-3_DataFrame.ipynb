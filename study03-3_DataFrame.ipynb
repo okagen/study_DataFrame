{
 "cells": [
  {
   "cell_type": "markdown",
   "metadata": {},
   "source": [
    "# study03-1で生成したcsvファイルを読み込み、グラフ化する。\n",
    "  - csvファイルをDataFrameに読みこむ。\n",
    "  - DataFrame内にはYear、Regionフィールドがあり値が重複している。***groupbyでMultiIndex DataFrame***を作り処理をする。その際、他のフィールドは平均値としておく。\n",
    "  - 先に作った***MultiIndex DataFrameのlevelを指定して部分的にDataFrameを取得してイテレーション***し、処理をする。\n",
    "  - ***matplotlib.pyplot***を用いてグラフ化。***折れ線グラフ***を生成する。"
   ]
  },
  {
   "cell_type": "markdown",
   "metadata": {},
   "source": [
    "---\n",
    "## 1.  csvファイルを読み込む"
   ]
  },
  {
   "cell_type": "code",
   "execution_count": 1,
   "metadata": {},
   "outputs": [],
   "source": [
    "import numpy as np\n",
    "import glob\n",
    "import pandas as pd\n",
    "csv_JH = '.\\\\Data\\\\03_Sample\\\\JH.csv'"
   ]
  },
  {
   "cell_type": "code",
   "execution_count": 2,
   "metadata": {},
   "outputs": [
    {
     "data": {
      "text/html": [
       "<div>\n",
       "<style scoped>\n",
       "    .dataframe tbody tr th:only-of-type {\n",
       "        vertical-align: middle;\n",
       "    }\n",
       "\n",
       "    .dataframe tbody tr th {\n",
       "        vertical-align: top;\n",
       "    }\n",
       "\n",
       "    .dataframe thead th {\n",
       "        text-align: right;\n",
       "    }\n",
       "</style>\n",
       "<table border=\"1\" class=\"dataframe\">\n",
       "  <thead>\n",
       "    <tr style=\"text-align: right;\">\n",
       "      <th></th>\n",
       "      <th>Region</th>\n",
       "      <th>Year</th>\n",
       "      <th>Koku</th>\n",
       "      <th>Su</th>\n",
       "    </tr>\n",
       "  </thead>\n",
       "  <tbody>\n",
       "    <tr>\n",
       "      <th>0</th>\n",
       "      <td>1</td>\n",
       "      <td>2007</td>\n",
       "      <td>81.683626</td>\n",
       "      <td>71.984765</td>\n",
       "    </tr>\n",
       "    <tr>\n",
       "      <th>1</th>\n",
       "      <td>2</td>\n",
       "      <td>2007</td>\n",
       "      <td>82.510161</td>\n",
       "      <td>73.106976</td>\n",
       "    </tr>\n",
       "    <tr>\n",
       "      <th>2</th>\n",
       "      <td>3</td>\n",
       "      <td>2007</td>\n",
       "      <td>81.752606</td>\n",
       "      <td>71.858818</td>\n",
       "    </tr>\n",
       "    <tr>\n",
       "      <th>3</th>\n",
       "      <td>4</td>\n",
       "      <td>2007</td>\n",
       "      <td>81.429095</td>\n",
       "      <td>71.106606</td>\n",
       "    </tr>\n",
       "    <tr>\n",
       "      <th>4</th>\n",
       "      <td>1</td>\n",
       "      <td>2008</td>\n",
       "      <td>73.745387</td>\n",
       "      <td>63.687490</td>\n",
       "    </tr>\n",
       "  </tbody>\n",
       "</table>\n",
       "</div>"
      ],
      "text/plain": [
       "   Region  Year       Koku         Su\n",
       "0       1  2007  81.683626  71.984765\n",
       "1       2  2007  82.510161  73.106976\n",
       "2       3  2007  81.752606  71.858818\n",
       "3       4  2007  81.429095  71.106606\n",
       "4       1  2008  73.745387  63.687490"
      ]
     },
     "metadata": {},
     "output_type": "display_data"
    }
   ],
   "source": [
    "df_JH = pd.read_csv(csv_JH, encoding='Shift_JISx0213')\n",
    "display(df_JH.head(5))"
   ]
  },
  {
   "cell_type": "markdown",
   "metadata": {},
   "source": [
    "---\n",
    "## 2. Year、Region毎にグルーピングし、グループごとにイテレーションをする。\n",
    "### 2-1.  MultiIndex DataFrameを生成\n",
    "  - Yearは2007～2019がある。途中抜けた年がある。\n",
    "  - Regionは4種類(1,2,3,4)\n",
    "  - 2種類以上のフィールドでgroupbyをした場合に出来があるDataFrameをMultiIndex DataFrameというようで、引数に渡した順番で左からlevel=0、level=1とindexにレベル付けが行われる。\n",
    "  - 以下の場合、Yearはlevel=0、Regionはlevel=1となる。"
   ]
  },
  {
   "cell_type": "code",
   "execution_count": 3,
   "metadata": {},
   "outputs": [
    {
     "data": {
      "text/html": [
       "<div>\n",
       "<style scoped>\n",
       "    .dataframe tbody tr th:only-of-type {\n",
       "        vertical-align: middle;\n",
       "    }\n",
       "\n",
       "    .dataframe tbody tr th {\n",
       "        vertical-align: top;\n",
       "    }\n",
       "\n",
       "    .dataframe thead th {\n",
       "        text-align: right;\n",
       "    }\n",
       "</style>\n",
       "<table border=\"1\" class=\"dataframe\">\n",
       "  <thead>\n",
       "    <tr style=\"text-align: right;\">\n",
       "      <th></th>\n",
       "      <th></th>\n",
       "      <th>Koku</th>\n",
       "      <th>Su</th>\n",
       "    </tr>\n",
       "    <tr>\n",
       "      <th>Year</th>\n",
       "      <th>Region</th>\n",
       "      <th></th>\n",
       "      <th></th>\n",
       "    </tr>\n",
       "  </thead>\n",
       "  <tbody>\n",
       "    <tr>\n",
       "      <th rowspan=\"4\" valign=\"top\">2007</th>\n",
       "      <th>1</th>\n",
       "      <td>81.683626</td>\n",
       "      <td>71.984765</td>\n",
       "    </tr>\n",
       "    <tr>\n",
       "      <th>2</th>\n",
       "      <td>82.510161</td>\n",
       "      <td>73.106976</td>\n",
       "    </tr>\n",
       "    <tr>\n",
       "      <th>3</th>\n",
       "      <td>81.752606</td>\n",
       "      <td>71.858818</td>\n",
       "    </tr>\n",
       "    <tr>\n",
       "      <th>4</th>\n",
       "      <td>81.429095</td>\n",
       "      <td>71.106606</td>\n",
       "    </tr>\n",
       "    <tr>\n",
       "      <th>2008</th>\n",
       "      <th>1</th>\n",
       "      <td>73.745387</td>\n",
       "      <td>63.687490</td>\n",
       "    </tr>\n",
       "  </tbody>\n",
       "</table>\n",
       "</div>"
      ],
      "text/plain": [
       "                  Koku         Su\n",
       "Year Region                      \n",
       "2007 1       81.683626  71.984765\n",
       "     2       82.510161  73.106976\n",
       "     3       81.752606  71.858818\n",
       "     4       81.429095  71.106606\n",
       "2008 1       73.745387  63.687490"
      ]
     },
     "metadata": {},
     "output_type": "display_data"
    }
   ],
   "source": [
    "df_JH_grp = df_JH.groupby(['Year','Region']).mean()\n",
    "display(df_JH_grp.head(5))"
   ]
  },
  {
   "cell_type": "markdown",
   "metadata": {},
   "source": [
    "## 2-2. MultiIndex DataFrameをグループごとにイテレーションしてみる。\n",
    "  - level=0、Yearでイテレーション。idxにはYearの値が入り、df_selectには、Year毎のDataFrameの塊が入る。\n",
    "  - level=1でイテレーションした場合、idxにはRegionの値が入り、df_selectにはRegion毎のDataFrameの塊が入る。"
   ]
  },
  {
   "cell_type": "code",
   "execution_count": 4,
   "metadata": {},
   "outputs": [
    {
     "name": "stdout",
     "output_type": "stream",
     "text": [
      "------------\n"
     ]
    },
    {
     "data": {
      "text/plain": [
       "2007"
      ]
     },
     "metadata": {},
     "output_type": "display_data"
    },
    {
     "data": {
      "text/html": [
       "<div>\n",
       "<style scoped>\n",
       "    .dataframe tbody tr th:only-of-type {\n",
       "        vertical-align: middle;\n",
       "    }\n",
       "\n",
       "    .dataframe tbody tr th {\n",
       "        vertical-align: top;\n",
       "    }\n",
       "\n",
       "    .dataframe thead th {\n",
       "        text-align: right;\n",
       "    }\n",
       "</style>\n",
       "<table border=\"1\" class=\"dataframe\">\n",
       "  <thead>\n",
       "    <tr style=\"text-align: right;\">\n",
       "      <th></th>\n",
       "      <th></th>\n",
       "      <th>Koku</th>\n",
       "      <th>Su</th>\n",
       "    </tr>\n",
       "    <tr>\n",
       "      <th>Year</th>\n",
       "      <th>Region</th>\n",
       "      <th></th>\n",
       "      <th></th>\n",
       "    </tr>\n",
       "  </thead>\n",
       "  <tbody>\n",
       "    <tr>\n",
       "      <th rowspan=\"4\" valign=\"top\">2007</th>\n",
       "      <th>1</th>\n",
       "      <td>81.683626</td>\n",
       "      <td>71.984765</td>\n",
       "    </tr>\n",
       "    <tr>\n",
       "      <th>2</th>\n",
       "      <td>82.510161</td>\n",
       "      <td>73.106976</td>\n",
       "    </tr>\n",
       "    <tr>\n",
       "      <th>3</th>\n",
       "      <td>81.752606</td>\n",
       "      <td>71.858818</td>\n",
       "    </tr>\n",
       "    <tr>\n",
       "      <th>4</th>\n",
       "      <td>81.429095</td>\n",
       "      <td>71.106606</td>\n",
       "    </tr>\n",
       "  </tbody>\n",
       "</table>\n",
       "</div>"
      ],
      "text/plain": [
       "                  Koku         Su\n",
       "Year Region                      \n",
       "2007 1       81.683626  71.984765\n",
       "     2       82.510161  73.106976\n",
       "     3       81.752606  71.858818\n",
       "     4       81.429095  71.106606"
      ]
     },
     "metadata": {},
     "output_type": "display_data"
    },
    {
     "name": "stdout",
     "output_type": "stream",
     "text": [
      "------------\n"
     ]
    },
    {
     "data": {
      "text/plain": [
       "2008"
      ]
     },
     "metadata": {},
     "output_type": "display_data"
    },
    {
     "data": {
      "text/html": [
       "<div>\n",
       "<style scoped>\n",
       "    .dataframe tbody tr th:only-of-type {\n",
       "        vertical-align: middle;\n",
       "    }\n",
       "\n",
       "    .dataframe tbody tr th {\n",
       "        vertical-align: top;\n",
       "    }\n",
       "\n",
       "    .dataframe thead th {\n",
       "        text-align: right;\n",
       "    }\n",
       "</style>\n",
       "<table border=\"1\" class=\"dataframe\">\n",
       "  <thead>\n",
       "    <tr style=\"text-align: right;\">\n",
       "      <th></th>\n",
       "      <th></th>\n",
       "      <th>Koku</th>\n",
       "      <th>Su</th>\n",
       "    </tr>\n",
       "    <tr>\n",
       "      <th>Year</th>\n",
       "      <th>Region</th>\n",
       "      <th></th>\n",
       "      <th></th>\n",
       "    </tr>\n",
       "  </thead>\n",
       "  <tbody>\n",
       "    <tr>\n",
       "      <th rowspan=\"4\" valign=\"top\">2008</th>\n",
       "      <th>1</th>\n",
       "      <td>73.745387</td>\n",
       "      <td>63.687490</td>\n",
       "    </tr>\n",
       "    <tr>\n",
       "      <th>2</th>\n",
       "      <td>73.959331</td>\n",
       "      <td>64.141464</td>\n",
       "    </tr>\n",
       "    <tr>\n",
       "      <th>3</th>\n",
       "      <td>73.672881</td>\n",
       "      <td>62.998008</td>\n",
       "    </tr>\n",
       "    <tr>\n",
       "      <th>4</th>\n",
       "      <td>73.423445</td>\n",
       "      <td>61.742351</td>\n",
       "    </tr>\n",
       "  </tbody>\n",
       "</table>\n",
       "</div>"
      ],
      "text/plain": [
       "                  Koku         Su\n",
       "Year Region                      \n",
       "2008 1       73.745387  63.687490\n",
       "     2       73.959331  64.141464\n",
       "     3       73.672881  62.998008\n",
       "     4       73.423445  61.742351"
      ]
     },
     "metadata": {},
     "output_type": "display_data"
    }
   ],
   "source": [
    "for idx, df_select in df_JH_grp.groupby(level=[0]):\n",
    "    print('------------')\n",
    "    display(idx)\n",
    "    display(df_select)\n",
    "    if idx == 2008:\n",
    "        break"
   ]
  },
  {
   "cell_type": "markdown",
   "metadata": {},
   "source": [
    "## 2-3. イテレーション結果をグラフ化"
   ]
  },
  {
   "cell_type": "code",
   "execution_count": 6,
   "metadata": {
    "scrolled": false
   },
   "outputs": [
    {
     "data": {
      "image/png": "[encoded data removed]",
      "text/plain": [
       "<Figure size 432x216 with 1 Axes>"
      ]
     },
     "metadata": {
      "needs_background": "light"
     },
     "output_type": "display_data"
    },
    {
     "data": {
      "image/png": "[encoded data removed]",
      "text/plain": [
       "<Figure size 432x216 with 1 Axes>"
      ]
     },
     "metadata": {
      "needs_background": "light"
     },
     "output_type": "display_data"
    }
   ],
   "source": [
    "import matplotlib.pyplot as plot\n",
    "\n",
    "for idx, df_select in df_JH_grp.groupby(level=[0]):\n",
    "    # X軸にRegionの値をとりたいので、index（level=0、Year）を解き、Regionをindexに設定する。\n",
    "    tmp = df_select.reset_index()\n",
    "    tmp = tmp.set_index('Region')\n",
    "    \n",
    "    # Yearフィールドは不要なので削除\n",
    "    tmp = tmp.drop('Year', axis=1)\n",
    "    \n",
    "    params = {\n",
    "        'axes.titlesize': 15,\n",
    "        'axes.labelsize': -1,\n",
    "        'legend.fontsize': 20,\n",
    "        'figure.figsize': (6, 3),\n",
    "        'lines.linewidth' : 5.0,\n",
    "        'lines.markersize' : 12,\n",
    "        'lines.marker':'o',\n",
    "        'xtick.labelsize' : 15,\n",
    "        'ytick.labelsize' : 15\n",
    "    }\n",
    "    plot.rcParams.update(params)\n",
    "   \n",
    "    tmp.plot(kind='line', stacked=False,  title = \"< \"+ str(idx) + \" >\", \\\n",
    "             markevery = 1 )\n",
    "    \n",
    "    if idx == 2008:\n",
    "        break"
   ]
  },
  {
   "cell_type": "markdown",
   "metadata": {},
   "source": [
    "---\n",
    "## 3. Year、Region毎にグルーピングし、グループごとにイテレーションして処理をする。"
   ]
  },
  {
   "cell_type": "markdown",
   "metadata": {},
   "source": [
    "## 3-1. Year毎にDataFrameを取り出し、Koku、SuそれぞれRegion=1の値を用いて標準化する。"
   ]
  },
  {
   "cell_type": "code",
   "execution_count": 7,
   "metadata": {},
   "outputs": [
    {
     "data": {
      "text/html": [
       "<div>\n",
       "<style scoped>\n",
       "    .dataframe tbody tr th:only-of-type {\n",
       "        vertical-align: middle;\n",
       "    }\n",
       "\n",
       "    .dataframe tbody tr th {\n",
       "        vertical-align: top;\n",
       "    }\n",
       "\n",
       "    .dataframe thead th {\n",
       "        text-align: right;\n",
       "    }\n",
       "</style>\n",
       "<table border=\"1\" class=\"dataframe\">\n",
       "  <thead>\n",
       "    <tr style=\"text-align: right;\">\n",
       "      <th></th>\n",
       "      <th></th>\n",
       "      <th>Koku</th>\n",
       "      <th>Su</th>\n",
       "    </tr>\n",
       "    <tr>\n",
       "      <th>Year</th>\n",
       "      <th>Region</th>\n",
       "      <th></th>\n",
       "      <th></th>\n",
       "    </tr>\n",
       "  </thead>\n",
       "  <tbody>\n",
       "    <tr>\n",
       "      <th rowspan=\"4\" valign=\"top\">2007</th>\n",
       "      <th>1</th>\n",
       "      <td>1.000000</td>\n",
       "      <td>1.000000</td>\n",
       "    </tr>\n",
       "    <tr>\n",
       "      <th>2</th>\n",
       "      <td>1.010119</td>\n",
       "      <td>1.015590</td>\n",
       "    </tr>\n",
       "    <tr>\n",
       "      <th>3</th>\n",
       "      <td>1.000844</td>\n",
       "      <td>0.998250</td>\n",
       "    </tr>\n",
       "    <tr>\n",
       "      <th>4</th>\n",
       "      <td>0.996884</td>\n",
       "      <td>0.987801</td>\n",
       "    </tr>\n",
       "    <tr>\n",
       "      <th>2008</th>\n",
       "      <th>1</th>\n",
       "      <td>1.000000</td>\n",
       "      <td>1.000000</td>\n",
       "    </tr>\n",
       "  </tbody>\n",
       "</table>\n",
       "</div>"
      ],
      "text/plain": [
       "                 Koku        Su\n",
       "Year Region                    \n",
       "2007 1       1.000000  1.000000\n",
       "     2       1.010119  1.015590\n",
       "     3       1.000844  0.998250\n",
       "     4       0.996884  0.987801\n",
       "2008 1       1.000000  1.000000"
      ]
     },
     "metadata": {},
     "output_type": "display_data"
    }
   ],
   "source": [
    "df_JH_norm = pd.DataFrame()\n",
    "\n",
    "for idx, df_select in df_JH_grp.groupby(level=[0]):\n",
    "    # これが無いとうまくいかない\n",
    "    df_select = df_select.copy()\n",
    "\n",
    "    # Retion=1の値を取得\n",
    "    # k = df_select['Koku'][0]\n",
    "    # s = df_select['Su'][0]\n",
    "\n",
    "    # Retion=1の値を取得 2\n",
    "    # 上記の方法でも取れるが、indexを指定して取得すると以下になる。\n",
    "    # ただし、そのままでは使えないため、処理が必要。\n",
    "    k_tmp = df_select.loc[(idx,1), ['Koku']]\n",
    "    s_tmp = df_select.loc[(idx,1), ['Su']]\n",
    "    # display(k_tmp)\n",
    "    # display(k_tmp.Koku)\n",
    "    k = k_tmp.Koku\n",
    "    s = s_tmp.Su\n",
    "\n",
    "    # 標準化\n",
    "    df_select['Koku'] = df_select['Koku'] / k\n",
    "    df_select['Su'] = df_select['Su'] / s\n",
    "\n",
    "    # 処理結果を保持\n",
    "    df_JH_norm = df_JH_norm.append(df_select)\n",
    "    \n",
    "display(df_JH_norm.head(5))"
   ]
  },
  {
   "cell_type": "markdown",
   "metadata": {},
   "source": [
    "## 3-2. 処理結果をグラフ化"
   ]
  },
  {
   "cell_type": "code",
   "execution_count": 8,
   "metadata": {},
   "outputs": [
    {
     "data": {
      "image/png": "[encoded data removed]",
      "text/plain": [
       "<Figure size 432x216 with 1 Axes>"
      ]
     },
     "metadata": {
      "needs_background": "light"
     },
     "output_type": "display_data"
    },
    {
     "data": {
      "image/png": "[encoded data removed]",
      "text/plain": [
       "<Figure size 432x216 with 1 Axes>"
      ]
     },
     "metadata": {
      "needs_background": "light"
     },
     "output_type": "display_data"
    }
   ],
   "source": [
    "import matplotlib.pyplot as plot\n",
    "\n",
    "for idx, df_select in df_JH_norm.groupby(level=[0]):\n",
    "    # X軸にRegionの値をとりたいので、index（level=0、Year）を解き、Regionをindexに設定する。\n",
    "    tmp = df_select.reset_index()\n",
    "    tmp = tmp.set_index('Region')\n",
    "    \n",
    "    # Yearフィールドは不要なので削除\n",
    "    tmp = tmp.drop('Year', axis=1)\n",
    "    \n",
    "    params = {\n",
    "        'axes.titlesize': 15,\n",
    "        'axes.labelsize': -1,\n",
    "        'legend.fontsize': 20,\n",
    "        'figure.figsize': (6, 3),\n",
    "        'lines.linewidth' : 5.0,\n",
    "        'lines.markersize' : 12,\n",
    "        'lines.marker':'o',\n",
    "        'xtick.labelsize' : 15,\n",
    "        'ytick.labelsize' : 15\n",
    "    }\n",
    "    plot.rcParams.update(params)\n",
    "   \n",
    "    tmp.plot(kind='line', stacked=False,  title = \"< \"+ str(idx) + \" >\", \\\n",
    "             markevery = 1 )\n",
    "    \n",
    "    if idx == 2008:\n",
    "        break"
   ]
  },
  {
   "cell_type": "code",
   "execution_count": null,
   "metadata": {},
   "outputs": [],
   "source": []
  }
 ],
 "metadata": {
  "kernelspec": {
   "display_name": "Python 3",
   "language": "python",
   "name": "python3"
  },
  "language_info": {
   "codemirror_mode": {
    "name": "ipython",
    "version": 3
   },
   "file_extension": ".py",
   "mimetype": "text/x-python",
   "name": "python",
   "nbconvert_exporter": "python",
   "pygments_lexer": "ipython3",
   "version": "3.7.3"
  }
 },
 "nbformat": 4,
 "nbformat_minor": 2
}
